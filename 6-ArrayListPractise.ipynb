{
 "cells": [
  {
   "cell_type": "markdown",
   "metadata": {},
   "source": [
    "Description:\n",
    "Given a list of integers, determine if it is a palindrome. A list is considered a palindrome if it reads the same forward and backward.\n",
    "\n",
    "\n",
    "\n",
    "Input Parameters:\n",
    "\n",
    "lst (List[int]): A list of integers.\n",
    "\n",
    "Output:\n",
    "\n",
    "bool: Return True if the list is a palindrome, otherwise False.\n",
    "\n",
    "\n",
    "\n",
    "Example:\n",
    "\n",
    "Input: lst = [7, 8, 9, 8, 7]\n",
    "Output: True\n",
    " \n",
    "Input: lst = [1, 2, 3, 4, 5]\n",
    "Output: False\n",
    " \n",
    "Input: lst = [1, 2, 3, 2, 1]\n",
    "Output: True"
   ]
  },
  {
   "cell_type": "code",
   "execution_count": 3,
   "metadata": {},
   "outputs": [
    {
     "data": {
      "text/plain": [
       "(True, False)"
      ]
     },
     "execution_count": 3,
     "metadata": {},
     "output_type": "execute_result"
    }
   ],
   "source": [
    "lst = [7, 8, 9, 8, 7]\n",
    "\n",
    "def is_palindrome(lst):\n",
    "    \"\"\"\n",
    "    Function to check if a list is a palindrome.\n",
    "    :param lst: List[int] -> List of integers\n",
    "    :return: bool -> True if the list is a palindrome, False otherwise\n",
    "    \"\"\"\n",
    "    # TODO: Implement this function\n",
    "    if lst == lst[::-1]:\n",
    "        return True\n",
    "    else:\n",
    "        return False\n",
    "\n",
    "a = is_palindrome(lst)\n",
    "\n",
    "lst = [1, 2, 3, 4, 5]\n",
    "b = is_palindrome(lst)\n",
    "\n",
    "a, b"
   ]
  },
  {
   "cell_type": "markdown",
   "metadata": {},
   "source": [
    "Description:\n",
    "Given a list of integers, write a function to reverse the order of elements in the list.\n",
    "\n",
    "\n",
    "\n",
    "Input Parameters:\n",
    "\n",
    "lst (List[int]): A list of integers.\n",
    "\n",
    "Output:\n",
    "\n",
    "List[int]: The list with elements in reversed order.\n",
    "\n",
    "\n",
    "\n",
    "Example:\n",
    "\n",
    "Input: lst = [1, 2, 3, 4, 5]\n",
    "Output: [5, 4, 3, 2, 1]\n",
    " \n",
    "Input: lst = [10, 20, 30]\n",
    "Output: [30, 20, 10]\n",
    " \n",
    "Input: lst = [7, 8, 9]\n",
    "Output: [9, 8, 7]"
   ]
  },
  {
   "cell_type": "code",
   "execution_count": 14,
   "metadata": {},
   "outputs": [
    {
     "data": {
      "text/plain": [
       "[30, 20, 10]"
      ]
     },
     "execution_count": 14,
     "metadata": {},
     "output_type": "execute_result"
    }
   ],
   "source": [
    "def reverse_list(lst):\n",
    "    \"\"\"\n",
    "    Function to reverse the order of elements in a list.\n",
    "    :param lst: List[int] -> List of integers\n",
    "    :return: List[int] -> The list with elements in reversed order\n",
    "    \"\"\"\n",
    "    \n",
    "    return [lst[i] for i in range(len(lst)-1, -1, -1)]\n",
    "\n",
    "lst = [10, 20, 30]\n",
    "reverse_list(lst)"
   ]
  },
  {
   "cell_type": "markdown",
   "metadata": {},
   "source": [
    "Description:\n",
    "Given a list of integers and an integer D, write a function to rotate the list to the left by D positions.\n",
    "\n",
    "\n",
    "\n",
    "Input Parameters:\n",
    "\n",
    "ARR (List[int]): A list of integers.\n",
    "\n",
    "D (int): The number of positions to rotate the list to the left.\n",
    "\n",
    "Output:\n",
    "\n",
    "List[int]: The list after rotating it to the left by D positions.\n",
    "\n",
    "\n",
    "\n",
    "Example:\n",
    "\n",
    "Input: ARR = [1, 2, 3, 4, 5], D = 2\n",
    "Output: [3, 4, 5, 1, 2]\n",
    " \n",
    "Input: ARR = [10, 20, 30, 40, 50], D = 3\n",
    "Output: [40, 50, 10, 20, 30]\n",
    " \n",
    "Input: ARR = [7, 8, 9, 10], D = 1\n",
    "Output: [8, 9, 10, 7]"
   ]
  },
  {
   "cell_type": "code",
   "execution_count": 9,
   "metadata": {},
   "outputs": [
    {
     "name": "stdout",
     "output_type": "stream",
     "text": [
      "[4, 5, 1, 2, 3]\n"
     ]
    }
   ],
   "source": [
    "# Approach 1:\n",
    "def rotate_left(ARR, D):\n",
    "    \"\"\"\n",
    "    Function to rotate the list to the left by D positions.\n",
    "    :param ARR: List[int] -> The list of integers\n",
    "    :param D: int -> The number of positions to rotate\n",
    "    :return: List[int] -> The list after rotation\n",
    "    \"\"\"\n",
    "    return ARR[D:] + ARR[:D]\n",
    "\n",
    "ARR, D = [1, 2, 3, 4, 5], 3\n",
    "print(rotate_left(ARR, D))\n",
    "\n",
    "# ARR[2:] + ARR[:2]\n",
    "\n",
    "# Approach 2:\n",
    "def rotate_left(ARR, D):\n",
    "    \"\"\"\n",
    "    Function to rotate the list to the left by D positions.\n",
    "    :param ARR: List[int] -> The list of integers\n",
    "    :param D: int -> The number of positions to rotate\n",
    "    :return: List[int] -> The list after rotation\n",
    "    \"\"\"\n",
    "    # Handle the rotation\n",
    "    D = D % len(ARR)  # Handle cases where D is larger than the size of the list\n",
    "    return ARR[D:] + ARR[:D]\n",
    " \n",
    "# Helper function to display the result (for debugging)\n",
    "def display_result(ARR, D):\n",
    "    print(rotate_left(ARR, D))\n",
    " \n",
    "# Example usage (can be removed)\n",
    "# ARR = [1, 2, 3, 4, 5]\n",
    "# D = 2\n",
    "# display_result(ARR, D)  # Output should be [3, 4, 5, 1, 2]"
   ]
  },
  {
   "cell_type": "markdown",
   "metadata": {},
   "source": [
    "Description:\n",
    "You are given a large integer represented as an integer array digits, where each digits[i] is the i-th digit of the integer. The digits are ordered from most significant to least significant in left-to-right order. The large integer does not contain any leading zeroes.\n",
    "\n",
    "Write a function to increment the large integer by one and return the resulting array of digits.\n",
    "\n",
    "\n",
    "\n",
    "Input Parameters:\n",
    "\n",
    "digits (List[int]): A list of integers where each integer represents a digit of a large number.\n",
    "\n",
    "Output:\n",
    "\n",
    "List[int]: The list representing the number after incrementing it by one.\n",
    "\n",
    "\n",
    "\n",
    "Example:\n",
    "\n",
    "Input: digits = [1, 2, 3]\n",
    "Output: [1, 2, 4]\n",
    " \n",
    "Input: digits = [4, 3, 2, 1]\n",
    "Output: [4, 3, 2, 2]\n",
    " \n",
    "Input: digits = [9, 9, 9]\n",
    "Output: [1, 0, 0, 0]\n"
   ]
  },
  {
   "cell_type": "code",
   "execution_count": 15,
   "metadata": {},
   "outputs": [
    {
     "name": "stdout",
     "output_type": "stream",
     "text": [
      "[1, 0, 0, 0]\n"
     ]
    }
   ],
   "source": [
    "# Approach 1:\n",
    "def plus_one(digits):\n",
    "    \"\"\"\n",
    "    Function to increment a large integer represented as a list of digits by one.\n",
    "    :param digits: List[int] -> List of digits representing the large integer\n",
    "    :return: List[int] -> The list representing the integer after incrementing\n",
    "    \"\"\"\n",
    "    a = \"\".join([str(i) for i in digits])\n",
    "    b = int(a) + 1\n",
    "    return [int(i) for i in str(b)]\n",
    "\n",
    "digits = [9, 9, 9]\n",
    "print(plus_one(digits))\n",
    "\n",
    "# Approach 2:\n",
    "def plus_one(digits):\n",
    "    \"\"\"\n",
    "    Function to increment a large integer represented as a list of digits by one.\n",
    "    :param digits: List[int] -> List of digits representing the large integer\n",
    "    :return: List[int] -> The list representing the integer after incrementing\n",
    "    \"\"\"\n",
    "    # Start from the last digit\n",
    "    n = len(digits)\n",
    "    for i in range(n - 1, -1, -1):\n",
    "        if digits[i] < 9:\n",
    "            digits[i] += 1\n",
    "            return digits\n",
    "        digits[i] = 0\n",
    "    \n",
    "    # If all digits are 9, the result will be a list of zeros with a 1 at the beginning\n",
    "    return [1] + digits\n",
    " \n",
    "# Helper function to display the result (for debugging)\n",
    "def display_result(digits):\n",
    "    print(plus_one(digits))"
   ]
  },
  {
   "cell_type": "markdown",
   "metadata": {},
   "source": [
    "Description:\n",
    "Given an array nums containing n distinct numbers in the range [0, n], return the only number in the range that is missing from the array.\n",
    "\n",
    "\n",
    "\n",
    "Input Parameters:\n",
    "\n",
    "nums (List[int]): A list of integers where each integer is unique and in the range [0, n].\n",
    "\n",
    "Output:\n",
    "\n",
    "int: The missing number in the range [0, n].\n",
    "\n",
    "\n",
    "\n",
    "Example:\n",
    "\n",
    "Input: nums = [3, 0, 1]\n",
    "Output: 2\n",
    " \n",
    "Input: nums = [0, 1]\n",
    "Output: 2\n",
    " \n",
    "Input: nums = [8, 7, 6, 4, 3, 2, 0, 1]\n",
    "Output: 5"
   ]
  },
  {
   "cell_type": "code",
   "execution_count": 25,
   "metadata": {},
   "outputs": [
    {
     "name": "stdout",
     "output_type": "stream",
     "text": [
      "5\n"
     ]
    }
   ],
   "source": [
    "# Approach 1:\n",
    "def find_missing_number(nums):\n",
    "    \"\"\"\n",
    "    Function to find the missing number in the array.\n",
    "    :param nums: List[int] -> A list of distinct integers in the range [0, n]\n",
    "    :return: int -> The missing number in the range\n",
    "    \"\"\"\n",
    "    ln = len(nums)+1\n",
    "    i, ac_sum = 0, 0\n",
    "    while i < ln:\n",
    "        # print(i, ln, ac_sum)\n",
    "        ac_sum += i\n",
    "        i+=1\n",
    "\n",
    "    return ac_sum - sum(nums)\n",
    "\n",
    "\n",
    "nums = [8, 7, 6, 4, 3, 2, 0, 1]\n",
    "print(find_missing_number(nums))\n",
    "\n",
    "# Approach 2:\n",
    "def find_missing_number(nums):\n",
    "    \"\"\"\n",
    "    Function to find the missing number in the array.\n",
    "    :param nums: List[int] -> A list of distinct integers in the range [0, n]\n",
    "    :return: int -> The missing number in the range\n",
    "    \"\"\"\n",
    "    n = len(nums)\n",
    "    # Calculate the expected sum of numbers from 0 to n\n",
    "    expected_sum = n * (n + 1) // 2\n",
    "    # Calculate the actual sum of the given numbers\n",
    "    actual_sum = sum(nums)\n",
    "    \n",
    "    # The missing number is the difference between the expected sum and the actual sum\n",
    "    return expected_sum - actual_sum\n",
    " \n",
    "# Helper function to display the result (for debugging)\n",
    "def display_result(nums):\n",
    "    print(find_missing_number(nums))\n"
   ]
  },
  {
   "cell_type": "markdown",
   "metadata": {},
   "source": [
    "Description:\n",
    "Write a function that checks whether the given array is sorted in non-decreasing order. The array is considered sorted if every element is less than or equal to the next element.\n",
    "\n",
    "\n",
    "\n",
    "Input Parameters:\n",
    "\n",
    "arr (List[int]): A list of integers.\n",
    "\n",
    "Output:\n",
    "\n",
    "bool: True if the array is sorted in non-decreasing order, False otherwise.\n",
    "\n",
    "\n",
    "\n",
    "Example:\n",
    "\n",
    "Input: arr = [5, 4, 3, 2, 1]\n",
    "Output: False\n",
    " \n",
    "Input: arr = [1, 3, 2, 4, 5]\n",
    "Output: False\n",
    " \n",
    "Input: arr = [1, 2, 3, 4, 5]\n",
    "Output: True\n"
   ]
  },
  {
   "cell_type": "code",
   "execution_count": null,
   "metadata": {},
   "outputs": [
    {
     "data": {
      "text/plain": [
       "False"
      ]
     },
     "execution_count": 4,
     "metadata": {},
     "output_type": "execute_result"
    }
   ],
   "source": [
    "# Approach 1:\n",
    "def is_sorted(arr):\n",
    "    \"\"\"\n",
    "    Function to check if the given array is sorted in non-decreasing order.\n",
    "    :param arr: List[int] -> A list of integers\n",
    "    :return: bool -> True if the array is sorted, False otherwise\n",
    "    \"\"\"\n",
    "    for i in range(0, len(arr)-2):\n",
    "        if arr[i+1] < arr[i]:\n",
    "            return False\n",
    "    return True \n",
    "\n",
    "arr = [1,3, 2, 4, 5]\n",
    "print(is_sorted(arr))\n",
    "\n",
    "# Approach 2:\n",
    "def is_sorted(arr):\n",
    "    \"\"\"\n",
    "    Function to check if the given array is sorted in non-decreasing order.\n",
    "    :param arr: List[int] -> A list of integers\n",
    "    :return: bool -> True if the array is sorted, False otherwise\n",
    "    \"\"\"\n",
    "    n = len(arr)\n",
    "    \n",
    "    for i in range(n - 1):\n",
    "        if arr[i] > arr[i + 1]:\n",
    "            return False\n",
    "    \n",
    "    return True\n",
    " \n",
    "# Helper function to display the result (for debugging)\n",
    "def display_result(arr):\n",
    "    print(is_sorted(arr))"
   ]
  },
  {
   "cell_type": "markdown",
   "metadata": {},
   "source": [
    "Description:\n",
    "Given an integer array nums, write a function to move all 0s to the end of the array while maintaining the relative order of the non-zero elements.\n",
    "\n",
    "\n",
    "\n",
    "Input Parameters:\n",
    "\n",
    "nums (List[int]): A list of integers.\n",
    "\n",
    "Output:\n",
    "\n",
    "The list nums with all 0s moved to the end, preserving the order of non-zero elements.\n",
    "\n",
    "\n",
    "\n",
    "Example:\n",
    "\n",
    "Input: nums = [0, 1, 0, 3, 12]\n",
    "Output: [1, 3, 12, 0, 0]\n",
    " \n",
    "Input: nums = [0, 0, 1]\n",
    "Output: [1, 0, 0]\n",
    " \n",
    "Input: nums = [4, 2, 4, 0, 0, 3, 0, 5, 1, 0]\n",
    "Output: [4, 2, 4, 3, 5, 1, 0, 0, 0, 0]"
   ]
  },
  {
   "cell_type": "code",
   "execution_count": null,
   "metadata": {},
   "outputs": [
    {
     "name": "stdout",
     "output_type": "stream",
     "text": [
      "[1, 0, 0]\n",
      "[1, 0, 0]\n"
     ]
    }
   ],
   "source": [
    "def move_zeroes(nums):\n",
    "    \"\"\"\n",
    "    Function to move all 0's to the end of the array while maintaining the order of non-zero elements.\n",
    "    :param nums: List[int] -> A list of integers\n",
    "    :return: None -> The list is modified in place\n",
    "    \"\"\"\n",
    "    zeros = []\n",
    "    for i in nums:\n",
    "        if i == 0:\n",
    "            zeros.append(i)\n",
    "            nums.remove(i)\n",
    "        \n",
    "    nums.extend(zeros)\n",
    "    \n",
    "    return nums\n",
    "\n",
    "# Approach 2\n",
    "def move_zeroes(nums):\n",
    "    \"\"\"\n",
    "    Function to move all 0's to the end of the array while maintaining the order of non-zero elements.\n",
    "    :param nums: List[int] -> A list of integers\n",
    "    :return: None -> The list is modified in place\n",
    "    \"\"\"\n",
    "    non_zero_index = 0  # Pointer to track the position of the next non-zero element\n",
    " \n",
    "    # Move non-zero elements to the front of the list\n",
    "    for i in range(len(nums)):\n",
    "        if nums[i] != 0:\n",
    "            nums[non_zero_index] = nums[i]\n",
    "            non_zero_index += 1\n",
    "    \n",
    "    # Fill the remaining positions with zeros\n",
    "    while non_zero_index < len(nums):\n",
    "        nums[non_zero_index] = 0\n",
    "        non_zero_index += 1\n",
    "    \n",
    "    return nums\n",
    "\n",
    "\n",
    "# nums = [4, 2, 4, 0, 0, 3, 0, 5, 1, 0]\n",
    "nums = [0, 1, 0]\n",
    "print(move_zeroes(nums))    "
   ]
  },
  {
   "cell_type": "markdown",
   "metadata": {},
   "source": [
    "Description:\n",
    "Given two integer arrays nums1 and nums2, return an array of their intersection. Each element in the result must be unique, and you may return the result in any order.\n",
    "\n",
    "\n",
    "\n",
    "Input Parameters:\n",
    "\n",
    "nums1 (List[int]): An array of integers.\n",
    "\n",
    "nums2 (List[int]): An array of integers.\n",
    "\n",
    "Output:\n",
    "\n",
    "List[int]: An array of unique integers that are present in both nums1 and nums2.\n",
    "\n",
    "\n",
    "\n",
    "Example:\n",
    "\n",
    "Input: nums1 = [1, 2, 3], nums2 = [4, 5, 6]\n",
    "Output: []\n",
    " \n",
    "Input: nums1 = [1, 2, 2, 1], nums2 = [2, 2]\n",
    "Output: [2]\n",
    " \n",
    "Input: nums1 = [4, 9, 5], nums2 = [9, 4, 9, 8, 4]\n",
    "Output: [9, 4]"
   ]
  },
  {
   "cell_type": "code",
   "execution_count": 19,
   "metadata": {},
   "outputs": [
    {
     "data": {
      "text/plain": [
       "[3]"
      ]
     },
     "execution_count": 19,
     "metadata": {},
     "output_type": "execute_result"
    }
   ],
   "source": [
    "def intersection(nums1, nums2):\n",
    "    \"\"\"\n",
    "    Function to find the intersection of two integer arrays.\n",
    "    :param nums1: List[int] -> First array of integers\n",
    "    :param nums2: List[int] -> Second array of integers\n",
    "    :return: List[int] -> An array of unique integers present in both arrays\n",
    "    \"\"\"\n",
    "    nums1, nums2 = set(nums1), set(nums2)\n",
    "\n",
    "    return list(nums1.intersection(nums2))\n",
    "\n",
    "nums1, nums2 = [1, 2, 3], [3, 4, 5, 6]\n",
    "intersection(nums1, nums2)"
   ]
  }
 ],
 "metadata": {
  "kernelspec": {
   "display_name": "Python 3",
   "language": "python",
   "name": "python3"
  },
  "language_info": {
   "codemirror_mode": {
    "name": "ipython",
    "version": 3
   },
   "file_extension": ".py",
   "mimetype": "text/x-python",
   "name": "python",
   "nbconvert_exporter": "python",
   "pygments_lexer": "ipython3",
   "version": "3.12.3"
  }
 },
 "nbformat": 4,
 "nbformat_minor": 2
}
