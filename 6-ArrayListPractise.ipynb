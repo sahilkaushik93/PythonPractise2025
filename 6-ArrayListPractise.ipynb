{
 "cells": [
  {
   "cell_type": "markdown",
   "metadata": {},
   "source": [
    "Description:\n",
    "Given a list of integers, determine if it is a palindrome. A list is considered a palindrome if it reads the same forward and backward.\n",
    "\n",
    "\n",
    "\n",
    "Input Parameters:\n",
    "\n",
    "lst (List[int]): A list of integers.\n",
    "\n",
    "Output:\n",
    "\n",
    "bool: Return True if the list is a palindrome, otherwise False.\n",
    "\n",
    "\n",
    "\n",
    "Example:\n",
    "\n",
    "Input: lst = [7, 8, 9, 8, 7]\n",
    "Output: True\n",
    " \n",
    "Input: lst = [1, 2, 3, 4, 5]\n",
    "Output: False\n",
    " \n",
    "Input: lst = [1, 2, 3, 2, 1]\n",
    "Output: True"
   ]
  },
  {
   "cell_type": "code",
   "execution_count": 3,
   "metadata": {},
   "outputs": [
    {
     "data": {
      "text/plain": [
       "(True, False)"
      ]
     },
     "execution_count": 3,
     "metadata": {},
     "output_type": "execute_result"
    }
   ],
   "source": [
    "lst = [7, 8, 9, 8, 7]\n",
    "\n",
    "def is_palindrome(lst):\n",
    "    \"\"\"\n",
    "    Function to check if a list is a palindrome.\n",
    "    :param lst: List[int] -> List of integers\n",
    "    :return: bool -> True if the list is a palindrome, False otherwise\n",
    "    \"\"\"\n",
    "    # TODO: Implement this function\n",
    "    if lst == lst[::-1]:\n",
    "        return True\n",
    "    else:\n",
    "        return False\n",
    "\n",
    "a = is_palindrome(lst)\n",
    "\n",
    "lst = [1, 2, 3, 4, 5]\n",
    "b = is_palindrome(lst)\n",
    "\n",
    "a, b"
   ]
  },
  {
   "cell_type": "markdown",
   "metadata": {},
   "source": [
    "Description:\n",
    "Given a list of integers, write a function to reverse the order of elements in the list.\n",
    "\n",
    "\n",
    "\n",
    "Input Parameters:\n",
    "\n",
    "lst (List[int]): A list of integers.\n",
    "\n",
    "Output:\n",
    "\n",
    "List[int]: The list with elements in reversed order.\n",
    "\n",
    "\n",
    "\n",
    "Example:\n",
    "\n",
    "Input: lst = [1, 2, 3, 4, 5]\n",
    "Output: [5, 4, 3, 2, 1]\n",
    " \n",
    "Input: lst = [10, 20, 30]\n",
    "Output: [30, 20, 10]\n",
    " \n",
    "Input: lst = [7, 8, 9]\n",
    "Output: [9, 8, 7]"
   ]
  },
  {
   "cell_type": "code",
   "execution_count": 14,
   "metadata": {},
   "outputs": [
    {
     "data": {
      "text/plain": [
       "[30, 20, 10]"
      ]
     },
     "execution_count": 14,
     "metadata": {},
     "output_type": "execute_result"
    }
   ],
   "source": [
    "def reverse_list(lst):\n",
    "    \"\"\"\n",
    "    Function to reverse the order of elements in a list.\n",
    "    :param lst: List[int] -> List of integers\n",
    "    :return: List[int] -> The list with elements in reversed order\n",
    "    \"\"\"\n",
    "    \n",
    "    return [lst[i] for i in range(len(lst)-1, -1, -1)]\n",
    "\n",
    "lst = [10, 20, 30]\n",
    "reverse_list(lst)"
   ]
  },
  {
   "cell_type": "markdown",
   "metadata": {},
   "source": [
    "Description:\n",
    "Given a list of integers and an integer D, write a function to rotate the list to the left by D positions.\n",
    "\n",
    "\n",
    "\n",
    "Input Parameters:\n",
    "\n",
    "ARR (List[int]): A list of integers.\n",
    "\n",
    "D (int): The number of positions to rotate the list to the left.\n",
    "\n",
    "Output:\n",
    "\n",
    "List[int]: The list after rotating it to the left by D positions.\n",
    "\n",
    "\n",
    "\n",
    "Example:\n",
    "\n",
    "Input: ARR = [1, 2, 3, 4, 5], D = 2\n",
    "Output: [3, 4, 5, 1, 2]\n",
    " \n",
    "Input: ARR = [10, 20, 30, 40, 50], D = 3\n",
    "Output: [40, 50, 10, 20, 30]\n",
    " \n",
    "Input: ARR = [7, 8, 9, 10], D = 1\n",
    "Output: [8, 9, 10, 7]"
   ]
  },
  {
   "cell_type": "code",
   "execution_count": null,
   "metadata": {},
   "outputs": [],
   "source": [
    "# Approach 1:\n",
    "def rotate_left(ARR, D):\n",
    "    \"\"\"\n",
    "    Function to rotate the list to the left by D positions.\n",
    "    :param ARR: List[int] -> The list of integers\n",
    "    :param D: int -> The number of positions to rotate\n",
    "    :return: List[int] -> The list after rotation\n",
    "    \"\"\"\n",
    "    return ARR[D:] + ARR[:D]\n",
    "\n",
    "ARR, D = [1, 2, 3, 4, 5], 3\n",
    "print(rotate_left(ARR, D))\n",
    "\n",
    "# ARR[2:] + ARR[:2]\n",
    "\n",
    "# Approach 2:\n",
    "def rotate_left(ARR, D):\n",
    "    \"\"\"\n",
    "    Function to rotate the list to the left by D positions.\n",
    "    :param ARR: List[int] -> The list of integers\n",
    "    :param D: int -> The number of positions to rotate\n",
    "    :return: List[int] -> The list after rotation\n",
    "    \"\"\"\n",
    "    # Handle the rotation\n",
    "    D = D % len(ARR)  # Handle cases where D is larger than the size of the list\n",
    "    return ARR[D:] + ARR[:D]\n",
    " \n",
    "# Helper function to display the result (for debugging)\n",
    "def display_result(ARR, D):\n",
    "    print(rotate_left(ARR, D))\n",
    " \n",
    "# Example usage (can be removed)\n",
    "# ARR = [1, 2, 3, 4, 5]\n",
    "# D = 2\n",
    "# display_result(ARR, D)  # Output should be [3, 4, 5, 1, 2]"
   ]
  },
  {
   "cell_type": "markdown",
   "metadata": {},
   "source": []
  },
  {
   "cell_type": "code",
   "execution_count": null,
   "metadata": {},
   "outputs": [],
   "source": []
  }
 ],
 "metadata": {
  "kernelspec": {
   "display_name": "Python 3",
   "language": "python",
   "name": "python3"
  },
  "language_info": {
   "codemirror_mode": {
    "name": "ipython",
    "version": 3
   },
   "file_extension": ".py",
   "mimetype": "text/x-python",
   "name": "python",
   "nbconvert_exporter": "python",
   "pygments_lexer": "ipython3",
   "version": "3.12.3"
  }
 },
 "nbformat": 4,
 "nbformat_minor": 2
}
