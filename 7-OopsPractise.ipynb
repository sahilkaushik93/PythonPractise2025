{
 "cells": [
  {
   "cell_type": "markdown",
   "metadata": {},
   "source": [
    "# Classes and Objects\n",
    "\n",
    "A class is a blueprint for creating objects. It has attributes, methods."
   ]
  },
  {
   "cell_type": "code",
   "execution_count": 2,
   "metadata": {},
   "outputs": [
    {
     "name": "stdout",
     "output_type": "stream",
     "text": [
      "1, 1\n",
      "2, 2\n",
      "3, 6\n",
      "4, 24\n",
      "5, 120\n"
     ]
    }
   ],
   "source": [
    "## Nagarro Question \n",
    "\n",
    "def abc(n):\n",
    "    if n == 0 or n == 1:\n",
    "        return 1\n",
    "    else:\n",
    "        result = 1\n",
    "        for i in range(2, n+1):\n",
    "            result *= i\n",
    "        return result\n",
    "\n",
    "def main():\n",
    "    for num in range(1, 6):\n",
    "        print(f\"{num}, {abc(num)}\")\n",
    "\n",
    "if __name__ == \"main\":\n",
    "    main()"
   ]
  },
  {
   "cell_type": "code",
   "execution_count": 17,
   "metadata": {},
   "outputs": [
    {
     "name": "stdout",
     "output_type": "stream",
     "text": [
      "[1]\n",
      "[1, 2]\n",
      "[3]\n",
      "[3, 2]\n",
      "[3, 2, 2]\n",
      "[3]\n",
      "[3, 3]\n",
      "[3, 3, 31]\n",
      "[3, 3, 31, 1]\n",
      "[3, 2, 2, 3, 3, 31, 1]\n",
      "[1, 2, 3, 2, 2, 3, 3, 31, 1]\n",
      "[34]\n",
      "[22]\n",
      "[22, 32232131]\n",
      "[22, 32232131, 1231]\n",
      "[34, 22, 32232131, 1231]\n",
      "[34, 22, 32232131, 1231, 12]\n",
      "[34, 22, 32232131, 1231, 12, 21]\n",
      "[1, 2, 3, 2, 2, 3, 3, 31, 1, 34, 22, 32232131, 1231, 12, 21]\n"
     ]
    },
    {
     "data": {
      "text/plain": [
       "[1, 2, 3, 2, 2, 3, 3, 31, 1, 34, 22, 32232131, 1231, 12, 21]"
      ]
     },
     "execution_count": 17,
     "metadata": {},
     "output_type": "execute_result"
    }
   ],
   "source": [
    "\n",
    "def list_flat(lst):\n",
    "    new_lst = []\n",
    "    for i in lst:\n",
    "        if isinstance(i, list):\n",
    "            new_lst.extend(list_flat(i))\n",
    "            print(new_lst)\n",
    "        else:\n",
    "            new_lst.append(i)\n",
    "            print(new_lst)\n",
    "    return new_lst\n",
    "\n",
    "lst = [1,2,[3,2,2,[3,3,31,1]], [34,[22,32232131, 1231],12,21]]\n",
    "a = list_flat(lst)\n",
    "a"
   ]
  }
 ],
 "metadata": {
  "kernelspec": {
   "display_name": "Python 3",
   "language": "python",
   "name": "python3"
  },
  "language_info": {
   "codemirror_mode": {
    "name": "ipython",
    "version": 3
   },
   "file_extension": ".py",
   "mimetype": "text/x-python",
   "name": "python",
   "nbconvert_exporter": "python",
   "pygments_lexer": "ipython3",
   "version": "3.12.3"
  }
 },
 "nbformat": 4,
 "nbformat_minor": 2
}
