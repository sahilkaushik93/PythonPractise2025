{
 "cells": [
  {
   "cell_type": "markdown",
   "metadata": {},
   "source": [
    "Program to Reverse a List\n",
    "Reverse a List (Non-Slicing Approach)\n",
    "\n",
    "You are given a list of integers. Write a Python program that reverses the list without using slicing (lst[::-1]). The program should return the reversed list.\n",
    "\n",
    "Parameters:\n",
    "\n",
    "lst (List of integers): The list of integers to be reversed.\n",
    "\n",
    "Returns:\n",
    "\n",
    "A list of integers where the order of elements is reversed from the input list.\n",
    "\n",
    "Example:\n",
    "\n",
    "Input: lst = [1, 2, 3, 4, 5]\n",
    "Output: [5, 4, 3, 2, 1]"
   ]
  },
  {
   "cell_type": "code",
   "execution_count": 11,
   "metadata": {},
   "outputs": [
    {
     "name": "stdout",
     "output_type": "stream",
     "text": [
      "two approaches results are: \n",
      "a)['6', '5', '4', '3', '2', '1']\n"
     ]
    }
   ],
   "source": [
    "## Approach 1: Brute Force\n",
    "def reverse_list(lst1):\n",
    "    output = {}\n",
    "    # Your code goes here\n",
    "    for i, j in enumerate(lst1):\n",
    "        output[len(lst1)-i-1] = j\n",
    "        \n",
    "    for k, l in enumerate(lst1):\n",
    "        lst1[k] = output[k]\n",
    "        \n",
    "    return lst1\n",
    "        \n",
    "        \n",
    "lst = list(input().split(\" \"))\n",
    "\n",
    "## TWO POINTER:\n",
    "# You can use a two-pointer approach where one pointer starts at the beginning and the other at the end of the list, \n",
    "# swapping elements as you go until the two pointers meet.\n",
    "\n",
    "def two_pointer(lst2):\n",
    "    left = 0\n",
    "    right = len(lst2)-1\n",
    "\n",
    "    while left < right:\n",
    "        lst2[left], lst2[right] = lst2[right], lst2[left]\n",
    "        left += 1\n",
    "        right -= 1\n",
    "\n",
    "    return lst2\n",
    "\n",
    "a = reverse_list(lst)\n",
    "# b = two_pointer(lst)\n",
    "\n",
    "print(f\"two approaches results are: \\na){a}\")  \n",
    "      "
   ]
  },
  {
   "cell_type": "markdown",
   "metadata": {},
   "source": [
    "Count Number of Odd and Even Elements in a List"
   ]
  },
  {
   "cell_type": "code",
   "execution_count": null,
   "metadata": {},
   "outputs": [],
   "source": [
    "def count_even_odd(lst):\n",
    "    # Your code goes here\n",
    "    odd_count = 0\n",
    "    even_count = 0\n",
    "    \n",
    "    for i in lst:\n",
    "        if i%2 == 0:\n",
    "            even_count += 1\n",
    "        else:\n",
    "            odd_count += 1\n",
    "            \n",
    "    return (even_count, odd_count)\n",
    "\n",
    "lst = list(input().split(\" \"))\n",
    "\n",
    "count_even_odd(lst)"
   ]
  },
  {
   "cell_type": "markdown",
   "metadata": {},
   "source": [
    "Maximum difference between two consecutive elements in a list.\n",
    "Find Maximum Difference Between Two Consecutive Elements (Brute Force Approach)\n",
    "\n",
    "You are given a list of integers. Write a Python program to find the maximum difference between two consecutive elements in the list using a brute-force approach. The difference is defined as the absolute value of the difference between two consecutive elements.\n",
    "\n",
    "Parameters:\n",
    "\n",
    "lst (List of integers): A list of integers.\n",
    "\n",
    "Returns:\n",
    "\n",
    "An integer representing the maximum difference between two consecutive elements.\n",
    "\n",
    "Example:\n",
    "\n",
    "Input: lst = [1, 7, 3, 10, 5]\n",
    "Output: 7\n",
    "\n",
    "The maximum difference is between 3 and 10 (i.e., |3 - 10| = 7).\n",
    "\n",
    "Input: lst = [10, 11, 15, 3]\n",
    "Output: 12\n",
    "\n",
    "The maximum difference is between 15 and 3 (i.e., |15 - 3| = 12)."
   ]
  },
  {
   "cell_type": "code",
   "execution_count": null,
   "metadata": {},
   "outputs": [
    {
     "name": "stdout",
     "output_type": "stream",
     "text": [
      "[1, 2, 3, 4, 5, 6, 7]\n",
      "3\n"
     ]
    },
    {
     "data": {
      "text/plain": [
       "3"
      ]
     },
     "execution_count": 17,
     "metadata": {},
     "output_type": "execute_result"
    }
   ],
   "source": [
    "lst = input().split(\" \")\n",
    "lst = [int(x) for x in lst] \n",
    "\n",
    "def max_consecutive_difference(lst):\n",
    "    # Your code goes here\n",
    "    max_val = 0\n",
    "    for i, j in enumerate(lst):\n",
    "        if i != 0 and (abs(lst[i]-lst[i-1]) > max_val):\n",
    "            max_val = abs(lst[i]-lst[i-1])\n",
    "            \n",
    "    return max_val\n",
    "\n",
    "\n",
    "\n",
    "max_consecutive_difference(lst)"
   ]
  },
  {
   "cell_type": "markdown",
   "metadata": {},
   "source": [
    "Merge two Sorted List\n",
    "Merge Two Sorted Lists\n",
    "\n",
    "You are given two sorted lists of integers. Write a Python function to merge these two sorted lists into one sorted list. The resulting list should also be in non-decreasing order.\n",
    "\n",
    "Parameters:\n",
    "\n",
    "list1 (List of integers): The first sorted list.\n",
    "\n",
    "list2 (List of integers): The second sorted list.\n",
    "\n",
    "Returns:\n",
    "\n",
    "A single list of integers, containing all elements from list1 and list2, sorted in non-decreasing order.\n",
    "\n",
    "Example:\n",
    "\n",
    "Input: list1 = [1, 3, 5], list2 = [2, 4, 6]\n",
    "Output: [1, 2, 3, 4, 5, 6]\n",
    "\n",
    "Input: list1 = [1, 4, 7], list2 = [2, 3, 5, 8]\n",
    "Output: [1, 2, 3, 4, 5, 7, 8]"
   ]
  },
  {
   "cell_type": "code",
   "execution_count": 36,
   "metadata": {},
   "outputs": [
    {
     "name": "stdout",
     "output_type": "stream",
     "text": [
      "this is approach1: [0, 1, 1, 1, 2, 4, 9, 10]\n",
      "this is approach2: [0, 1, 1, 1, 2, 4, 9, 0, 1, 2, 4, 10, 10]\n"
     ]
    }
   ],
   "source": [
    "## Brute Force\n",
    "list1 = [1, 1, 9]\n",
    "list2 = [0, 1, 2, 4, 10]\n",
    "\n",
    "def merge_two_sorted_lists1(list1, list2):\n",
    "    list1.extend(list2)\n",
    "    return sorted(list1)\n",
    "\n",
    "## Two pointer: -> giving bad result, need to be optimized\n",
    "# Use two pointers to traverse both lists simultaneously. Compare elements and append the smaller one to the result list.\n",
    "def merge_two_sorted_lists2(list1, list2):\n",
    "    # Initialize pointers for both lists\n",
    "    i, j = 0, 0\n",
    "    result = []  # Initialize an empty list to store the merged result\n",
    " \n",
    "    # Traverse both lists and merge them in sorted order\n",
    "    while i < len(list1) and j < len(list2):\n",
    "        if list1[i] < list2[j]:\n",
    "            result.append(list1[i])  # Add the smaller element to the result list\n",
    "            i += 1\n",
    "        else:\n",
    "            result.append(list2[j])  # Add the smaller element to the result list\n",
    "            j += 1\n",
    " \n",
    "    # If there are remaining elements in list1, add them to the result\n",
    "    while i < len(list1):\n",
    "        result.append(list1[i])\n",
    "        i += 1\n",
    " \n",
    "    # If there are remaining elements in list2, add them to the result\n",
    "    while j < len(list2):\n",
    "        result.append(list2[j])\n",
    "        j += 1\n",
    " \n",
    "    return result  # Return the merged sorted list\n",
    "\n",
    "\n",
    "print(f\"this is approach1: {merge_two_sorted_lists1(list1, list2)}\\nthis is approach2: {merge_two_sorted_lists2(list1, list2)}\")"
   ]
  },
  {
   "cell_type": "markdown",
   "metadata": {},
   "source": [
    "Rotate a List\n",
    "Rotate a List (Without Slicing)\n",
    "\n",
    "You are given a list of integers and an integer k. Write a Python function to rotate the list to the right by k positions without using slicing. A rotation shifts elements from the end of the list to the front.\n",
    "\n",
    "Parameters:\n",
    "\n",
    "lst (List of integers): The list to be rotated.\n",
    "\n",
    "k (Integer): The number of positions to rotate the list.\n",
    "\n",
    "Returns:\n",
    "\n",
    "A list of integers rotated by k positions.\n",
    "\n",
    "Example:\n",
    "\n",
    "Input: lst = [1, 2, 3, 4, 5], k = 2\n",
    "Output: [4, 5, 1, 2, 3]\n",
    "\n",
    "Input: lst = [10, 20, 30, 40, 50], k = 3\n",
    "Output: [30, 40, 50, 10, 20]\n",
    "\n"
   ]
  },
  {
   "cell_type": "code",
   "execution_count": 55,
   "metadata": {},
   "outputs": [
    {
     "data": {
      "text/plain": [
       "[4, 5, 1, 2, 3]"
      ]
     },
     "execution_count": 55,
     "metadata": {},
     "output_type": "execute_result"
    }
   ],
   "source": [
    "# Brute Force 1\n",
    "def rotate_list(lst, k):\n",
    "    # Your code goes here\n",
    "    if lst != []:\n",
    "        lst_new1 = []\n",
    "        lst_new2 = []\n",
    "        for i in range(k):\n",
    "            # print(lst[len(lst)-(k-i)])\n",
    "            lst_new1.append(lst[len(lst)-(k-i)])\n",
    "            # print(\"lst_new1:\",lst_new1)\n",
    "        for i in range(len(lst)-k):\n",
    "            print(\"index:\",i)\n",
    "            a = lst[i]\n",
    "            print(\"a:\",a)\n",
    "            lst_new2.append(a)\n",
    "            print(\"lst_new2:\",lst_new2)\n",
    "            \n",
    "        lst3 = lst_new1.append(lst_new2)\n",
    "        print(lst3)\n",
    "        return lst3\n",
    "    else:\n",
    "        return lst\n",
    "        \n",
    "# Brute Force 2\n",
    "def rotate_list(lst, k):\n",
    "    # Handling the case where the list is empty\n",
    "    if not lst:\n",
    "        return []\n",
    "    \n",
    "    # Modulo to handle the case where k is greater than the length of the list\n",
    "    k = k % len(lst)\n",
    "    \n",
    "    # Brute force approach using loops\n",
    "    for _ in range(k):\n",
    "        last_element = lst.pop()  # Remove the last element\n",
    "        lst.insert(0, last_element)  # Insert it at the front\n",
    "    \n",
    "    return lst\n",
    "\n",
    "lst = [1,2,3,4,5]\n",
    "rotate_list(lst, 2)"
   ]
  },
  {
   "cell_type": "markdown",
   "metadata": {},
   "source": [
    "Merge 2 List into Dictionary\n",
    "Merge Lists to Dictionary\n",
    "\n",
    "Design a Python function named merge_lists_to_dictionary to merge two lists into a dictionary where elements from the first list act as keys and elements from the second list act as values.\n",
    "\n",
    "Parameters:\n",
    "\n",
    "keys (List): A list of keys.\n",
    "\n",
    "values (List): A list of values.\n",
    "\n",
    "Returns:\n",
    "\n",
    "A dictionary containing merged key-value pairs.\n",
    "\n",
    "Example:\n",
    "\n",
    "Input: keys = ['a', 'b', 'c'], values = [1, 2, 3]\n",
    "Output: {'a': 1, 'b': 2, 'c': 3}\n",
    "\n",
    "Input: keys = ['x', 'y', 'z'], values = [10, 20, 30]\n",
    "Output: {'x': 10, 'y': 20, 'z': 30}\n",
    "\n"
   ]
  },
  {
   "cell_type": "code",
   "execution_count": 1,
   "metadata": {},
   "outputs": [
    {
     "name": "stdout",
     "output_type": "stream",
     "text": [
      "{'a': 1, 'b': 2, 'c': 3}\n"
     ]
    }
   ],
   "source": [
    "keys = ['a', 'b', 'c']\n",
    "values = [1,2,3]\n",
    "\n",
    "# Approach 1\n",
    "a = dict(zip(keys, values))\n",
    "print(a)\n"
   ]
  },
  {
   "cell_type": "markdown",
   "metadata": {},
   "source": [
    "Merge Multiple Dictionaries\n",
    "Merge Three Dictionaries\n",
    "\n",
    "Design a Python function named merge_three_dictionaries to merge exactly three dictionaries into one.\n",
    "\n",
    "Parameters:\n",
    "\n",
    "dict1 (Dictionary): The first dictionary to be merged.\n",
    "\n",
    "dict2 (Dictionary): The second dictionary to be merged.\n",
    "\n",
    "dict3 (Dictionary): The third dictionary to be merged.\n",
    "\n",
    "Returns:\n",
    "\n",
    "A single dictionary containing all key-value pairs from the three input dictionaries.\n",
    "\n",
    "Example:\n",
    "\n",
    "Input: ({'a': 1, 'b': 2}, {'c': 3, 'd': 4}, {'e': 5, 'f': 6})\n",
    "Output: {'a': 1, 'b': 2, 'c': 3, 'd': 4, 'e': 5, 'f': 6}\n",
    "\n",
    "Input: ({'x': 10, 'y': 20}, {'z': 30}, {'a': 40, 'b': 50})\n",
    "Output: {'x': 10, 'y': 20, 'z': 30, 'a': 40, 'b': 50}"
   ]
  },
  {
   "cell_type": "code",
   "execution_count": 3,
   "metadata": {},
   "outputs": [],
   "source": [
    "## Approach 1\n",
    "def merge_three_dictionaries(dict1, dict2, dict3):\n",
    "    # Your code goes here\n",
    "    return {**dict1, **dict2, **dict3}\n",
    "\n",
    "## Approach 2\n",
    "def merge_three_dictionaries(dict1, dict2, dict3):\n",
    "    # Create a new dictionary that starts with the content of dict1\n",
    "    merged_dict = dict1.copy()\n",
    "    \n",
    "    # Add the key-value pairs from dict2\n",
    "    for key, value in dict2.items():\n",
    "        merged_dict[key] = value\n",
    "    \n",
    "    # Add the key-value pairs from dict3\n",
    "    for key, value in dict3.items():\n",
    "        merged_dict[key] = value\n",
    "    \n",
    "    return merged_dict\n"
   ]
  },
  {
   "cell_type": "markdown",
   "metadata": {},
   "source": [
    "Words Frequency in a Sentence\n",
    "Count Word Frequency\n",
    "\n",
    "Design a Python function named count_word_frequency to count the frequency of words in a sentence and store the counts in a dictionary.\n",
    "\n",
    "Parameters:\n",
    "\n",
    "sentence (str): The input sentence where you need to count the frequency of each word.\n",
    "\n",
    "Returns:\n",
    "\n",
    "A dictionary where the keys are words from the sentence and the values are their corresponding frequencies.\n",
    "\n",
    "Example:\n",
    "\n",
    "Input: \"hello world hello\"\n",
    "Output: {'hello': 2, 'world': 1}\n",
    "\n",
    "Input: \"the quick brown fox jumps over the lazy dog\"\n",
    "Output: {'the': 2, 'quick': 1, 'brown': 1, 'fox': 1, 'jumps': 1, 'over': 1, 'lazy': 1, 'dog': 1}"
   ]
  },
  {
   "cell_type": "code",
   "execution_count": 5,
   "metadata": {},
   "outputs": [
    {
     "data": {
      "text/plain": [
       "{'quick': 2,\n",
       " 'brown': 2,\n",
       " 'fox': 2,\n",
       " 'jumps': 1,\n",
       " 'over': 1,\n",
       " 'lazy': 1,\n",
       " 'dog': 1,\n",
       " 'very': 1,\n",
       " 'fast': 1,\n",
       " 'you': 1,\n",
       " 'are': 1,\n",
       " 'fox.': 1}"
      ]
     },
     "execution_count": 5,
     "metadata": {},
     "output_type": "execute_result"
    }
   ],
   "source": [
    "raw_input = \"quick brown fox jumps over lazy dog very fast you are quick brown fox.\"\n",
    "\n",
    "\n",
    "# Approach 1\n",
    "input = raw_input.split()\n",
    "\n",
    "dct = {}\n",
    "\n",
    "for i in input:\n",
    "    if i not in dct.keys():\n",
    "        dct[i] = raw_input.count(i)\n",
    "\n",
    "dct\n",
    "\n",
    "# Approach 2\n",
    "def count_word_frequency(sentence):\n",
    "    # Initialize an empty dictionary to store word frequencies\n",
    "    word_count = {}\n",
    "    \n",
    "    # Split the sentence into words using space as the delimiter\n",
    "    words = sentence.split()\n",
    "    \n",
    "    # Iterate through each word in the list of words\n",
    "    for word in words:\n",
    "        # If the word is already in the dictionary, increment its count\n",
    "        if word in word_count:\n",
    "            word_count[word] += 1\n",
    "        # If the word is not in the dictionary, add it with a count of 1\n",
    "        else:\n",
    "            word_count[word] = 1\n",
    "    \n",
    "    return word_count\n"
   ]
  },
  {
   "cell_type": "markdown",
   "metadata": {},
   "source": [
    "Palindromic Tuple\n",
    "Check if Tuple is Palindromic\n",
    "\n",
    "Design a Python function named is_palindromic_tuple to check if a tuple is palindromic, meaning it reads the same forwards and backwards.\n",
    "\n",
    "Parameters:\n",
    "\n",
    "tup (tuple): The input tuple that you need to check for palindromic property.\n",
    "\n",
    "Returns:\n",
    "\n",
    "True if the tuple is palindromic, False otherwise.\n",
    "\n",
    "Example:\n",
    "\n",
    "Input: (1, 2, 3, 2, 1)\n",
    "Output: True\n",
    "\n",
    "Input: ('a', 'b', 'c', 'b', 'a')\n",
    "Output: True\n",
    "\n",
    "Input: (1, 2, 3, 4, 5)\n",
    "Output: False\n",
    "\n",
    "Input: ('x', 'y', 'z', 'x')\n",
    "Output: False\n",
    "\n",
    "Input: ('a',)\n",
    "Output: True\n",
    "\n"
   ]
  },
  {
   "cell_type": "code",
   "execution_count": 17,
   "metadata": {},
   "outputs": [
    {
     "name": "stdout",
     "output_type": "stream",
     "text": [
      "1\n",
      "1\n",
      "2\n",
      "1\n",
      "1\n"
     ]
    },
    {
     "data": {
      "text/plain": [
       "True"
      ]
     },
     "execution_count": 17,
     "metadata": {},
     "output_type": "execute_result"
    }
   ],
   "source": [
    "tup = (1,1,2,1,1)\n",
    "\n",
    "# Approach - Two Pointer:\n",
    "def is_palindromic(tup):\n",
    "    status = True\n",
    "    left = 0\n",
    "    right = len(tup)-1\n",
    "    while left < right:\n",
    "        if len(tup) == 1 or len(tup) == 2:\n",
    "            return True\n",
    "        else:\n",
    "            for i in tup:\n",
    "                print(i)\n",
    "                if tup[left] == tup[right]:\n",
    "                    left += 1\n",
    "                    right -= 1\n",
    "                else:\n",
    "                    return False\n",
    "    return status\n",
    "\n",
    "is_palindromic(tup)\n",
    "\n"
   ]
  },
  {
   "cell_type": "markdown",
   "metadata": {},
   "source": [
    "Merge Dictionaries with Common Keys\n",
    "Problem Description\n",
    "\n",
    "Merge Dictionaries with Overlapping Keys\n",
    "\n",
    "Design a Python function named merge_dicts_with_overlapping_keys that merges multiple dictionaries into a single dictionary. If a key appears in more than one dictionary, sum up their values.\n",
    "\n",
    "Parameters:\n",
    "\n",
    "dicts (list): A list of dictionaries where keys might overlap.\n",
    "\n",
    "Returns:\n",
    "\n",
    "A single dictionary where values for overlapping keys are summed.\n",
    "\n",
    "Example:\n",
    "\n",
    "Input: [{'a': 1, 'b': 2}, {'b': 3, 'c': 4}, {'c': 5, 'd': 6}]\n",
    "Output: {'a': 1, 'b': 5, 'c': 9, 'd': 6}\n",
    "\n",
    "Input: [{'x': 10, 'y': 20}, {'y': 30, 'z': 40}, {'z': 50, 'x': 60}]\n",
    "Output: {'x': 70, 'y': 50, 'z': 90}\n",
    "\n",
    "\n"
   ]
  },
  {
   "cell_type": "code",
   "execution_count": 23,
   "metadata": {},
   "outputs": [
    {
     "data": {
      "text/plain": [
       "{'a': 1, 'b': 5, 'c': 9, 'd': 6}"
      ]
     },
     "execution_count": 23,
     "metadata": {},
     "output_type": "execute_result"
    }
   ],
   "source": [
    "input = [{'a': 1, 'b': 2}, {'b': 3, 'c': 4}, {'c': 5, 'd': 6}]\n",
    "\n",
    "# Approach 1\n",
    "\n",
    "dct = {}\n",
    "\n",
    "for i in input:\n",
    "    for key, values in i.items():\n",
    "        if key in dct.keys():\n",
    "            dct[key] = dct[key] + values\n",
    "        else:\n",
    "            dct[key] = values\n",
    "\n",
    "dct\n",
    "\n",
    "# Approach 2 -> will give wrong answer\n",
    "# dct2 = {}\n",
    "\n",
    "# for i in input:\n",
    "#     dct2 = {**dct2, **i}\n",
    "\n",
    "# dct2\n"
   ]
  },
  {
   "cell_type": "markdown",
   "metadata": {},
   "source": [
    "Check if List is Subset of another List\n",
    "Check if a List is a Subset of Another List (Brute Force Approach)\n",
    "\n",
    "You are given two lists of integers. Write a Python program that checks whether the first list is a subset of the second list using a brute-force approach, without using the in keyword. A list is considered a subset if all elements of the first list are present in the second list.\n",
    "\n",
    "Parameters:\n",
    "\n",
    "lst1 (List of integers): The first list, which is being checked as a subset.\n",
    "\n",
    "lst2 (List of integers): The second list, which is the list to compare against.\n",
    "\n",
    "Returns:\n",
    "\n",
    "A boolean value True if lst1 is a subset of lst2, otherwise False.\n",
    "\n",
    "Example:\n",
    "\n",
    "Input: lst1 = [1, 2, 3], lst2 = [1, 2, 3, 4, 5]\n",
    "Output: True\n",
    "\n",
    "All elements in lst1 are present in lst2.\n",
    "\n",
    "Input: lst1 = [1, 6], lst2 = [1, 2, 3, 4, 5]\n",
    "Output: False\n",
    "\n",
    "The element 6 is not present in lst2.\n",
    "\n"
   ]
  },
  {
   "cell_type": "code",
   "execution_count": 25,
   "metadata": {},
   "outputs": [],
   "source": [
    "# Approach 1\n",
    "def is_subset(lst1, lst2):\n",
    "    # Your code goes here\n",
    "    set1 = set(lst1)\n",
    "    set2 = set(lst2)\n",
    "    \n",
    "    status = set1.issubset(set2)\n",
    "    return status\n",
    "\n",
    "# Approach 2\n",
    "def is_subset(lst1, lst2):\n",
    "    # Iterate through each element of lst1\n",
    "    for element in lst1:\n",
    "        found = False  # Flag to check if element is found in lst2\n",
    "        # Check each element of lst2\n",
    "        for item in lst2:\n",
    "            if item == element:  # Compare each element\n",
    "                found = True\n",
    "                break\n",
    "        if not found:  # If any element from lst1 is not found in lst2, return False\n",
    "            return False\n",
    "    return True  # If all elements in lst1 are found, return True\n"
   ]
  },
  {
   "cell_type": "markdown",
   "metadata": {},
   "source": []
  },
  {
   "cell_type": "code",
   "execution_count": null,
   "metadata": {},
   "outputs": [],
   "source": []
  }
 ],
 "metadata": {
  "kernelspec": {
   "display_name": "Python 3",
   "language": "python",
   "name": "python3"
  },
  "language_info": {
   "codemirror_mode": {
    "name": "ipython",
    "version": 3
   },
   "file_extension": ".py",
   "mimetype": "text/x-python",
   "name": "python",
   "nbconvert_exporter": "python",
   "pygments_lexer": "ipython3",
   "version": "3.12.3"
  }
 },
 "nbformat": 4,
 "nbformat_minor": 2
}
