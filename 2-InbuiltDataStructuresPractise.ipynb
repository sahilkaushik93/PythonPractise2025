{
 "cells": [
  {
   "cell_type": "markdown",
   "metadata": {},
   "source": [
    "Program to Reverse a List\n",
    "Reverse a List (Non-Slicing Approach)\n",
    "\n",
    "You are given a list of integers. Write a Python program that reverses the list without using slicing (lst[::-1]). The program should return the reversed list.\n",
    "\n",
    "Parameters:\n",
    "\n",
    "lst (List of integers): The list of integers to be reversed.\n",
    "\n",
    "Returns:\n",
    "\n",
    "A list of integers where the order of elements is reversed from the input list.\n",
    "\n",
    "Example:\n",
    "\n",
    "Input: lst = [1, 2, 3, 4, 5]\n",
    "Output: [5, 4, 3, 2, 1]"
   ]
  },
  {
   "cell_type": "code",
   "execution_count": 11,
   "metadata": {},
   "outputs": [
    {
     "name": "stdout",
     "output_type": "stream",
     "text": [
      "two approaches results are: \n",
      "a)['6', '5', '4', '3', '2', '1']\n"
     ]
    }
   ],
   "source": [
    "## Approach 1: Brute Force\n",
    "def reverse_list(lst1):\n",
    "    output = {}\n",
    "    # Your code goes here\n",
    "    for i, j in enumerate(lst1):\n",
    "        output[len(lst1)-i-1] = j\n",
    "        \n",
    "    for k, l in enumerate(lst1):\n",
    "        lst1[k] = output[k]\n",
    "        \n",
    "    return lst1\n",
    "        \n",
    "        \n",
    "lst = list(input().split(\" \"))\n",
    "\n",
    "## TWO POINTER:\n",
    "# You can use a two-pointer approach where one pointer starts at the beginning and the other at the end of the list, \n",
    "# swapping elements as you go until the two pointers meet.\n",
    "\n",
    "def two_pointer(lst2):\n",
    "    left = 0\n",
    "    right = len(lst2)-1\n",
    "\n",
    "    while left < right:\n",
    "        lst2[left], lst2[right] = lst2[right], lst2[left]\n",
    "        left += 1\n",
    "        right -= 1\n",
    "\n",
    "    return lst2\n",
    "\n",
    "a = reverse_list(lst)\n",
    "# b = two_pointer(lst)\n",
    "\n",
    "print(f\"two approaches results are: \\na){a}\")  \n",
    "      "
   ]
  },
  {
   "cell_type": "markdown",
   "metadata": {},
   "source": []
  },
  {
   "cell_type": "code",
   "execution_count": null,
   "metadata": {},
   "outputs": [],
   "source": []
  }
 ],
 "metadata": {
  "kernelspec": {
   "display_name": "Python 3",
   "language": "python",
   "name": "python3"
  },
  "language_info": {
   "codemirror_mode": {
    "name": "ipython",
    "version": 3
   },
   "file_extension": ".py",
   "mimetype": "text/x-python",
   "name": "python",
   "nbconvert_exporter": "python",
   "pygments_lexer": "ipython3",
   "version": "3.12.3"
  }
 },
 "nbformat": 4,
 "nbformat_minor": 2
}
