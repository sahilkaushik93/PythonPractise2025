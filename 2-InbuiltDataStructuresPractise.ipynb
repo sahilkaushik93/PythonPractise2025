{
 "cells": [
  {
   "cell_type": "markdown",
   "metadata": {},
   "source": [
    "Program to Reverse a List\n",
    "Reverse a List (Non-Slicing Approach)\n",
    "\n",
    "You are given a list of integers. Write a Python program that reverses the list without using slicing (lst[::-1]). The program should return the reversed list.\n",
    "\n",
    "Parameters:\n",
    "\n",
    "lst (List of integers): The list of integers to be reversed.\n",
    "\n",
    "Returns:\n",
    "\n",
    "A list of integers where the order of elements is reversed from the input list.\n",
    "\n",
    "Example:\n",
    "\n",
    "Input: lst = [1, 2, 3, 4, 5]\n",
    "Output: [5, 4, 3, 2, 1]"
   ]
  },
  {
   "cell_type": "code",
   "execution_count": 11,
   "metadata": {},
   "outputs": [
    {
     "name": "stdout",
     "output_type": "stream",
     "text": [
      "two approaches results are: \n",
      "a)['6', '5', '4', '3', '2', '1']\n"
     ]
    }
   ],
   "source": [
    "## Approach 1: Brute Force\n",
    "def reverse_list(lst1):\n",
    "    output = {}\n",
    "    # Your code goes here\n",
    "    for i, j in enumerate(lst1):\n",
    "        output[len(lst1)-i-1] = j\n",
    "        \n",
    "    for k, l in enumerate(lst1):\n",
    "        lst1[k] = output[k]\n",
    "        \n",
    "    return lst1\n",
    "        \n",
    "        \n",
    "lst = list(input().split(\" \"))\n",
    "\n",
    "## TWO POINTER:\n",
    "# You can use a two-pointer approach where one pointer starts at the beginning and the other at the end of the list, \n",
    "# swapping elements as you go until the two pointers meet.\n",
    "\n",
    "def two_pointer(lst2):\n",
    "    left = 0\n",
    "    right = len(lst2)-1\n",
    "\n",
    "    while left < right:\n",
    "        lst2[left], lst2[right] = lst2[right], lst2[left]\n",
    "        left += 1\n",
    "        right -= 1\n",
    "\n",
    "    return lst2\n",
    "\n",
    "a = reverse_list(lst)\n",
    "# b = two_pointer(lst)\n",
    "\n",
    "print(f\"two approaches results are: \\na){a}\")  \n",
    "      "
   ]
  },
  {
   "cell_type": "markdown",
   "metadata": {},
   "source": [
    "Count Number of Odd and Even Elements in a List"
   ]
  },
  {
   "cell_type": "code",
   "execution_count": null,
   "metadata": {},
   "outputs": [],
   "source": [
    "def count_even_odd(lst):\n",
    "    # Your code goes here\n",
    "    odd_count = 0\n",
    "    even_count = 0\n",
    "    \n",
    "    for i in lst:\n",
    "        if i%2 == 0:\n",
    "            even_count += 1\n",
    "        else:\n",
    "            odd_count += 1\n",
    "            \n",
    "    return (even_count, odd_count)\n",
    "\n",
    "lst = list(input().split(\" \"))\n",
    "\n",
    "count_even_odd(lst)"
   ]
  },
  {
   "cell_type": "markdown",
   "metadata": {},
   "source": [
    "Maximum difference between two consecutive elements in a list.\n",
    "Find Maximum Difference Between Two Consecutive Elements (Brute Force Approach)\n",
    "\n",
    "You are given a list of integers. Write a Python program to find the maximum difference between two consecutive elements in the list using a brute-force approach. The difference is defined as the absolute value of the difference between two consecutive elements.\n",
    "\n",
    "Parameters:\n",
    "\n",
    "lst (List of integers): A list of integers.\n",
    "\n",
    "Returns:\n",
    "\n",
    "An integer representing the maximum difference between two consecutive elements.\n",
    "\n",
    "Example:\n",
    "\n",
    "Input: lst = [1, 7, 3, 10, 5]\n",
    "Output: 7\n",
    "\n",
    "The maximum difference is between 3 and 10 (i.e., |3 - 10| = 7).\n",
    "\n",
    "Input: lst = [10, 11, 15, 3]\n",
    "Output: 12\n",
    "\n",
    "The maximum difference is between 15 and 3 (i.e., |15 - 3| = 12)."
   ]
  },
  {
   "cell_type": "code",
   "execution_count": null,
   "metadata": {},
   "outputs": [
    {
     "name": "stdout",
     "output_type": "stream",
     "text": [
      "[1, 2, 3, 4, 5, 6, 7]\n",
      "3\n"
     ]
    },
    {
     "data": {
      "text/plain": [
       "3"
      ]
     },
     "execution_count": 17,
     "metadata": {},
     "output_type": "execute_result"
    }
   ],
   "source": [
    "lst = input().split(\" \")\n",
    "lst = [int(x) for x in lst] \n",
    "\n",
    "def max_consecutive_difference(lst):\n",
    "    # Your code goes here\n",
    "    max_val = 0\n",
    "    for i, j in enumerate(lst):\n",
    "        if i != 0 and (abs(lst[i]-lst[i-1]) > max_val):\n",
    "            max_val = abs(lst[i]-lst[i-1])\n",
    "            \n",
    "    return max_val\n",
    "\n",
    "\n",
    "\n",
    "max_consecutive_difference(lst)"
   ]
  },
  {
   "cell_type": "markdown",
   "metadata": {},
   "source": [
    "Merge two Sorted List\n",
    "Merge Two Sorted Lists\n",
    "\n",
    "You are given two sorted lists of integers. Write a Python function to merge these two sorted lists into one sorted list. The resulting list should also be in non-decreasing order.\n",
    "\n",
    "Parameters:\n",
    "\n",
    "list1 (List of integers): The first sorted list.\n",
    "\n",
    "list2 (List of integers): The second sorted list.\n",
    "\n",
    "Returns:\n",
    "\n",
    "A single list of integers, containing all elements from list1 and list2, sorted in non-decreasing order.\n",
    "\n",
    "Example:\n",
    "\n",
    "Input: list1 = [1, 3, 5], list2 = [2, 4, 6]\n",
    "Output: [1, 2, 3, 4, 5, 6]\n",
    "\n",
    "Input: list1 = [1, 4, 7], list2 = [2, 3, 5, 8]\n",
    "Output: [1, 2, 3, 4, 5, 7, 8]"
   ]
  },
  {
   "cell_type": "code",
   "execution_count": 36,
   "metadata": {},
   "outputs": [
    {
     "name": "stdout",
     "output_type": "stream",
     "text": [
      "this is approach1: [0, 1, 1, 1, 2, 4, 9, 10]\n",
      "this is approach2: [0, 1, 1, 1, 2, 4, 9, 0, 1, 2, 4, 10, 10]\n"
     ]
    }
   ],
   "source": [
    "## Brute Force\n",
    "list1 = [1, 1, 9]\n",
    "list2 = [0, 1, 2, 4, 10]\n",
    "\n",
    "def merge_two_sorted_lists1(list1, list2):\n",
    "    list1.extend(list2)\n",
    "    return sorted(list1)\n",
    "\n",
    "## Two pointer: -> giving bad result, need to be optimized\n",
    "# Use two pointers to traverse both lists simultaneously. Compare elements and append the smaller one to the result list.\n",
    "def merge_two_sorted_lists2(list1, list2):\n",
    "    # Initialize pointers for both lists\n",
    "    i, j = 0, 0\n",
    "    result = []  # Initialize an empty list to store the merged result\n",
    " \n",
    "    # Traverse both lists and merge them in sorted order\n",
    "    while i < len(list1) and j < len(list2):\n",
    "        if list1[i] < list2[j]:\n",
    "            result.append(list1[i])  # Add the smaller element to the result list\n",
    "            i += 1\n",
    "        else:\n",
    "            result.append(list2[j])  # Add the smaller element to the result list\n",
    "            j += 1\n",
    " \n",
    "    # If there are remaining elements in list1, add them to the result\n",
    "    while i < len(list1):\n",
    "        result.append(list1[i])\n",
    "        i += 1\n",
    " \n",
    "    # If there are remaining elements in list2, add them to the result\n",
    "    while j < len(list2):\n",
    "        result.append(list2[j])\n",
    "        j += 1\n",
    " \n",
    "    return result  # Return the merged sorted list\n",
    "\n",
    "\n",
    "print(f\"this is approach1: {merge_two_sorted_lists1(list1, list2)}\\nthis is approach2: {merge_two_sorted_lists2(list1, list2)}\")"
   ]
  },
  {
   "cell_type": "markdown",
   "metadata": {},
   "source": [
    "Rotate a List\n",
    "Rotate a List (Without Slicing)\n",
    "\n",
    "You are given a list of integers and an integer k. Write a Python function to rotate the list to the right by k positions without using slicing. A rotation shifts elements from the end of the list to the front.\n",
    "\n",
    "Parameters:\n",
    "\n",
    "lst (List of integers): The list to be rotated.\n",
    "\n",
    "k (Integer): The number of positions to rotate the list.\n",
    "\n",
    "Returns:\n",
    "\n",
    "A list of integers rotated by k positions.\n",
    "\n",
    "Example:\n",
    "\n",
    "Input: lst = [1, 2, 3, 4, 5], k = 2\n",
    "Output: [4, 5, 1, 2, 3]\n",
    "\n",
    "Input: lst = [10, 20, 30, 40, 50], k = 3\n",
    "Output: [30, 40, 50, 10, 20]\n",
    "\n"
   ]
  },
  {
   "cell_type": "code",
   "execution_count": null,
   "metadata": {},
   "outputs": [],
   "source": []
  }
 ],
 "metadata": {
  "kernelspec": {
   "display_name": "Python 3",
   "language": "python",
   "name": "python3"
  },
  "language_info": {
   "codemirror_mode": {
    "name": "ipython",
    "version": 3
   },
   "file_extension": ".py",
   "mimetype": "text/x-python",
   "name": "python",
   "nbconvert_exporter": "python",
   "pygments_lexer": "ipython3",
   "version": "3.12.3"
  }
 },
 "nbformat": 4,
 "nbformat_minor": 2
}
