{
 "cells": [
  {
   "cell_type": "markdown",
   "metadata": {},
   "source": [
    "Bubble Sort Algorithm\n",
    "\n",
    "You are given a list of integers. Write a Python function to sort the list in ascending order using the Bubble Sort algorithm. Bubble Sort repeatedly steps through the list, compares adjacent elements, and swaps them if they are in the wrong order. The process is repeated until the list is sorted.\n",
    "\n",
    "Parameters:\n",
    "\n",
    "lst (List of integers): The list to be sorted.\n",
    "\n",
    "Returns:\n",
    "\n",
    "A list of integers sorted in ascending order.\n",
    "\n",
    "Example:\n",
    "\n",
    "Input: lst = [64, 34, 25, 12, 22, 11, 90]\n",
    "Output: [11, 12, 22, 25, 34, 64, 90]\n",
    "\n",
    "Input: lst = [5, 1, 4, 2, 8]\n",
    "Output: [1, 2, 4, 5, 8]"
   ]
  },
  {
   "cell_type": "code",
   "execution_count": 5,
   "metadata": {},
   "outputs": [
    {
     "data": {
      "text/plain": [
       "[11, 12, 22, 25, 34, 64, 90]"
      ]
     },
     "execution_count": 5,
     "metadata": {},
     "output_type": "execute_result"
    }
   ],
   "source": [
    "\n",
    "## Approach - Python Course\n",
    "def bubble_sort(lst):\n",
    "    n = len(lst)\n",
    "    \n",
    "    # Traverse through all elements in the list\n",
    "    for i in range(n):\n",
    "        # Last i elements are already sorted, so we skip them\n",
    "        for j in range(0, n - i - 1):\n",
    "            # Swap if the element found is greater than the next element\n",
    "            if lst[j] > lst[j + 1]:\n",
    "                lst[j], lst[j + 1] = lst[j + 1], lst[j]\n",
    "    \n",
    "    return lst\n",
    "\n",
    "lst = [64, 34, 25, 12, 22, 11, 90]\n",
    "\n",
    "# My Approach\n",
    "for i in range(len(lst)):\n",
    "    for j in range(len(lst)-i-1):\n",
    "        if lst[j+1] > lst[j]:\n",
    "            lst[j+1], lst[j] = lst[j], lst[j+1]\n",
    "\n",
    "lst[::-1]"
   ]
  },
  {
   "cell_type": "markdown",
   "metadata": {},
   "source": []
  },
  {
   "cell_type": "code",
   "execution_count": 6,
   "metadata": {},
   "outputs": [
    {
     "name": "stdout",
     "output_type": "stream",
     "text": [
      "[11, 12, 22, 25, 34, 64, 90]\n",
      "Sorted array: [10, 13, 14, 29, 37]\n"
     ]
    }
   ],
   "source": [
    "## Selection Sort\n",
    "\n",
    "lst = [64, 34, 25, 12, 22, 11, 90]\n",
    "\n",
    "# My Approach\n",
    "for i in range(len(lst)):\n",
    "    min = lst[i]\n",
    "    for j in range(i, len(lst)):\n",
    "        # print(min, lst[j])\n",
    "        if lst[j] < min:\n",
    "            min = lst[j]\n",
    "            lst[i], lst[j] = lst[j], lst[i]\n",
    "\n",
    "print(lst)\n",
    "\n",
    "# Approach - chat gpt\n",
    "def selectionSort(arr):\n",
    "    n = len(arr)\n",
    "    for i in range(n):\n",
    "        min_idx = i\n",
    "        for j in range(i+1, n):\n",
    "            if arr[j] < arr[min_idx]:\n",
    "                min_idx = j\n",
    "        arr[i], arr[min_idx] = arr[min_idx], arr[i]\n",
    "\n",
    "# Example\n",
    "arr = [29, 10, 14, 37, 13]\n",
    "selectionSort(arr)\n",
    "print(\"Sorted array:\", arr)\n",
    "\n",
    "\n"
   ]
  },
  {
   "cell_type": "markdown",
   "metadata": {},
   "source": []
  },
  {
   "cell_type": "code",
   "execution_count": 25,
   "metadata": {},
   "outputs": [
    {
     "name": "stdout",
     "output_type": "stream",
     "text": [
      "1\n",
      "64\n",
      "[64]\n",
      "2\n",
      "34\n",
      "[34, 64]\n",
      "34\n",
      "[25, 34, 64]\n",
      "3\n",
      "25\n",
      "[25, 25, 34, 64]\n",
      "25\n",
      "[12, 25, 25, 34, 64]\n",
      "25\n",
      "[12, 12, 25, 25, 34, 64]\n",
      "25\n",
      "[12, 12, 12, 25, 25, 34, 64]\n",
      "4\n",
      "12\n",
      "12\n",
      "12\n",
      "12\n",
      "25\n",
      "[12, 12, 12, 12, 25, 25, 34, 64]\n",
      "25\n",
      "[12, 12, 12, 12, 22, 25, 25, 34, 64]\n",
      "25\n",
      "[12, 12, 12, 12, 22, 22, 25, 25, 34, 64]\n",
      "25\n",
      "[12, 12, 12, 12, 22, 22, 22, 25, 25, 34, 64]\n",
      "5\n",
      "12\n",
      "[12, 12, 12, 12, 22, 22, 22, 22, 25, 25, 34, 64]\n",
      "12\n",
      "[11, 12, 12, 12, 12, 22, 22, 22, 22, 25, 25, 34, 64]\n",
      "12\n",
      "[11, 11, 12, 12, 12, 12, 22, 22, 22, 22, 25, 25, 34, 64]\n",
      "12\n",
      "[11, 11, 11, 12, 12, 12, 12, 22, 22, 22, 22, 25, 25, 34, 64]\n",
      "12\n",
      "[11, 11, 11, 11, 12, 12, 12, 12, 22, 22, 22, 22, 25, 25, 34, 64]\n",
      "12\n",
      "[11, 11, 11, 11, 11, 12, 12, 12, 12, 22, 22, 22, 22, 25, 25, 34, 64]\n",
      "12\n",
      "[11, 11, 11, 11, 11, 11, 12, 12, 12, 12, 22, 22, 22, 22, 25, 25, 34, 64]\n",
      "12\n",
      "[11, 11, 11, 11, 11, 11, 11, 12, 12, 12, 12, 22, 22, 22, 22, 25, 25, 34, 64]\n",
      "12\n",
      "[11, 11, 11, 11, 11, 11, 11, 11, 12, 12, 12, 12, 22, 22, 22, 22, 25, 25, 34, 64]\n",
      "12\n",
      "[11, 11, 11, 11, 11, 11, 11, 11, 11, 12, 12, 12, 12, 22, 22, 22, 22, 25, 25, 34, 64]\n",
      "12\n",
      "[11, 11, 11, 11, 11, 11, 11, 11, 11, 11, 12, 12, 12, 12, 22, 22, 22, 22, 25, 25, 34, 64]\n",
      "12\n",
      "[11, 11, 11, 11, 11, 11, 11, 11, 11, 11, 11, 12, 12, 12, 12, 22, 22, 22, 22, 25, 25, 34, 64]\n",
      "6\n",
      "11\n",
      "11\n",
      "11\n",
      "11\n",
      "11\n",
      "11\n",
      "11\n",
      "11\n",
      "11\n",
      "11\n",
      "11\n",
      "11\n",
      "12\n",
      "12\n",
      "12\n",
      "12\n",
      "22\n",
      "22\n",
      "22\n",
      "22\n",
      "25\n",
      "25\n",
      "34\n",
      "64\n"
     ]
    },
    {
     "data": {
      "text/plain": [
       "[11,\n",
       " 11,\n",
       " 11,\n",
       " 11,\n",
       " 11,\n",
       " 11,\n",
       " 11,\n",
       " 11,\n",
       " 11,\n",
       " 11,\n",
       " 11,\n",
       " 11,\n",
       " 12,\n",
       " 12,\n",
       " 12,\n",
       " 12,\n",
       " 22,\n",
       " 22,\n",
       " 22,\n",
       " 22,\n",
       " 25,\n",
       " 25,\n",
       " 34,\n",
       " 64]"
      ]
     },
     "execution_count": 25,
     "metadata": {},
     "output_type": "execute_result"
    }
   ],
   "source": [
    "## Insertion Sort\n",
    "\n",
    "lst = [64, 34, 25, 12, 22, 11, 90]\n",
    "\n",
    "# My Approach -> not working\n",
    "sort_arr = [lst[0]]\n",
    "for i in range(1,len(lst)):\n",
    "    print(i)\n",
    "    for j in range(len(sort_arr)):\n",
    "        print(sort_arr[j])\n",
    "        if sort_arr[j] > lst[i]:\n",
    "            print(sort_arr)\n",
    "            sort_arr.insert(j, lst[i])\n",
    "\n",
    "sort_arr"
   ]
  },
  {
   "cell_type": "code",
   "execution_count": 7,
   "metadata": {},
   "outputs": [
    {
     "data": {
      "text/plain": [
       "[64, 34, 50, 25, 12, 22, 11, 90]"
      ]
     },
     "execution_count": 7,
     "metadata": {},
     "output_type": "execute_result"
    }
   ],
   "source": [
    "lst = [64, 34, 25, 12, 22, 11, 90]\n",
    "\n",
    "lst.insert(2, 50)\n",
    "\n",
    "lst"
   ]
  },
  {
   "cell_type": "markdown",
   "metadata": {},
   "source": [
    "# Question\n",
    "\n",
    "Count negative numbers in a sorted matrix\n",
    "Asked in companies:\n",
    "\n",
    "Samsung\n",
    "\n",
    "Oyo\n",
    "\n",
    "Groww\n",
    "\n",
    "Dell\n",
    "\n",
    "\n",
    "\n",
    "Description:\n",
    "You are given an m x n matrix grid where each row and column is sorted in non-increasing order. Your task is to return the number of negative numbers present in the matrix.\n",
    "\n",
    "\n",
    "\n",
    "Parameters:\n",
    "\n",
    "grid (List[List[int]]): A 2D matrix with dimensions m x n, where each row and each column is sorted in non-increasing order.\n",
    "\n",
    "Return Values:\n",
    "\n",
    "Integer: The count of negative numbers in the matrix.\n",
    "\n",
    "\n",
    "\n",
    "Example:\n",
    "\n",
    "Input: grid = [[4, 3, 2, 1], [3, 2, 1, -1], [1, 1, -1, -2], [-1, -1, -2, -3]] \n",
    "Output: 7 \n",
    "Explanation: There are 7 negative numbers in the matrix.\n",
    " \n",
    "Input: grid = [[3, 2], [1, 0]] \n",
    "Output: 0 \n",
    "Explanation: There are no negative numbers in the matrix."
   ]
  },
  {
   "cell_type": "code",
   "execution_count": 5,
   "metadata": {},
   "outputs": [
    {
     "name": "stdout",
     "output_type": "stream",
     "text": [
      "[4, 3, 2, 1]\n",
      "[3, 2, 1, -1]\n",
      "[1, 1, -1, -2]\n",
      "[-1, -1, -2, -3]\n"
     ]
    },
    {
     "data": {
      "text/plain": [
       "7"
      ]
     },
     "execution_count": 5,
     "metadata": {},
     "output_type": "execute_result"
    }
   ],
   "source": [
    "grid = [[4, 3, 2, 1], [3, 2, 1, -1], [1, 1, -1, -2], [-1, -1, -2, -3]]\n",
    "count = 0\n",
    "for i in grid:\n",
    "    if isinstance(i, list):\n",
    "        print(i)\n",
    "        for j in i:\n",
    "            if j < 0:\n",
    "                count+=1\n",
    "count"
   ]
  }
 ],
 "metadata": {
  "kernelspec": {
   "display_name": "Python 3",
   "language": "python",
   "name": "python3"
  },
  "language_info": {
   "codemirror_mode": {
    "name": "ipython",
    "version": 3
   },
   "file_extension": ".py",
   "mimetype": "text/x-python",
   "name": "python",
   "nbconvert_exporter": "python",
   "pygments_lexer": "ipython3",
   "version": "3.12.3"
  }
 },
 "nbformat": 4,
 "nbformat_minor": 2
}
