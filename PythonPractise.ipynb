{
 "cells": [
  {
   "cell_type": "markdown",
   "metadata": {},
   "source": [
    "# TOPICS:\n",
    "1. Installation & Environment Setup\n",
    "2. Data Types"
   ]
  },
  {
   "cell_type": "markdown",
   "metadata": {},
   "source": [
    "#### 1. INSTALLATION & ENVIRONMENT SETUP"
   ]
  },
  {
   "cell_type": "code",
   "execution_count": 1,
   "metadata": {},
   "outputs": [
    {
     "name": "stdout",
     "output_type": "stream",
     "text": [
      "Python 3.12.3\n"
     ]
    }
   ],
   "source": [
    "\n",
    "# to check if it is installed or not\n",
    "! python --version \n",
    "\n",
    "# to create virtual env in windows\n",
    "# ! python -m venv venv \n",
    "\n",
    "# to activate virtual env\n",
    "# ! venv\\Scripts\\activate \n",
    "\n",
    "# create a requirements.txt\n",
    "# to install all packages in requirements.txt -> pip install -r requirements.txt"
   ]
  },
  {
   "cell_type": "markdown",
   "metadata": {},
   "source": [
    "#### 2. Data Types"
   ]
  },
  {
   "cell_type": "code",
   "execution_count": 3,
   "metadata": {},
   "outputs": [],
   "source": [
    "# Python provides several built-in data types to store different kinds of values. Let's break them down:\n",
    "\n",
    "# Category\t|Data Type\t |Example\n",
    "# Numeric\t| int\t     |x = 10\n",
    "#           |  float\t |y = 10.5\n",
    "#           |  complex\t |z = 3 + 4j\n",
    "# Text\t    |  str\t     |s = \"Hello\"\n",
    "# Boolean\t|  bool\t     |flag = True\n",
    "# Sequence\t|  list\t     |[1, 2, 3]\n",
    "#           |  tuple\t |(1, 2, 3)\n",
    "#           |  range\t |range(5)\n",
    "# Set Types\t|  set\t     |{1, 2, 3}\n",
    "#           |  frozenset |frozenset([1,2,3])\n",
    "# Mapping\t|  dict\t     |{\"key\": \"value\"}\n",
    "# Binary\t|  bytes\t |b'hello'\n",
    "#           |  bytearray |bytearray(5)\n",
    "#           |  memoryview|memoryview(bytes(5))\n",
    "# None Type\t|  NoneType\t |x = None"
   ]
  },
  {
   "cell_type": "code",
   "execution_count": null,
   "metadata": {},
   "outputs": [],
   "source": []
  }
 ],
 "metadata": {
  "kernelspec": {
   "display_name": "Python 3",
   "language": "python",
   "name": "python3"
  },
  "language_info": {
   "codemirror_mode": {
    "name": "ipython",
    "version": 3
   },
   "file_extension": ".py",
   "mimetype": "text/x-python",
   "name": "python",
   "nbconvert_exporter": "python",
   "pygments_lexer": "ipython3",
   "version": "3.12.3"
  }
 },
 "nbformat": 4,
 "nbformat_minor": 2
}
