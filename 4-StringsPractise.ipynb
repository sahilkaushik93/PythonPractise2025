{
 "cells": [
  {
   "cell_type": "markdown",
   "metadata": {},
   "source": [
    "Check Palindrome\n",
    "Problem Description:\n",
    "\n",
    "You are given a string s. Your task is to check if the string is a palindrome. A string is considered a palindrome if it reads the same forward and backward, ignoring spaces, punctuation, and case.\n",
    "\n",
    "\n",
    "\n",
    "Input:\n",
    "\n",
    "A single string s, where the length of s is between 1 and 1000.\n",
    "\n",
    "\n",
    "\n",
    "Output:\n",
    "\n",
    "A boolean value: True if the string is a palindrome, and False otherwise.\n",
    "\n",
    "\n",
    "\n",
    "Example:\n",
    "\n",
    "Input: \"A man a plan a canal Panama\"\n",
    "Output: True\n",
    " \n",
    "Input: \"Hello, World!\"\n",
    "Output: False\n"
   ]
  },
  {
   "cell_type": "code",
   "execution_count": 14,
   "metadata": {},
   "outputs": [
    {
     "data": {
      "text/plain": [
       "True"
      ]
     },
     "execution_count": 14,
     "metadata": {},
     "output_type": "execute_result"
    }
   ],
   "source": [
    "def is_palindrome(s):\n",
    "    \"\"\"\n",
    "    Function to check if the input string is a palindrome.\n",
    "    \n",
    "    Parameters:\n",
    "    s (str): The input string to check.\n",
    "    \n",
    "    Returns:\n",
    "    bool: True if the string is a palindrome, False otherwise.\n",
    "    \"\"\"\n",
    "    # Your code here\n",
    "    s= s.strip().replace(\" \",\"\").lower()\n",
    "    \n",
    "    left = 0\n",
    "    right = len(s)-1\n",
    "    \n",
    "    while left < right:\n",
    "        if s[left] == s[right]:\n",
    "            left += 1\n",
    "            right -= 1\n",
    "        else:\n",
    "            return False\n",
    "            \n",
    "    return True\n",
    "\n",
    "\n",
    "Input= \"A man a plan a canal Panama\"\n",
    "\n",
    "is_palindrome(Input)"
   ]
  },
  {
   "cell_type": "markdown",
   "metadata": {},
   "source": [
    "Count words in a string\n",
    "Problem Description:\n",
    "\n",
    "You are given a string s. Your task is to count the number of words in the string and return the total count. A word is defined as a sequence of characters separated by spaces.\n",
    "\n",
    "\n",
    "\n",
    "Input:\n",
    "\n",
    "A single string s, where the length of s is between 1 and 1000.\n",
    "\n",
    "\n",
    "\n",
    "Output:\n",
    "\n",
    "An integer representing the total count of words in the input string.\n",
    "\n",
    "\n",
    "\n",
    "Example:\n",
    "\n",
    "Input: \"Hello, World!\"\n",
    "Output: 2\n",
    " \n",
    "Input: \"Python programming is fun.\"\n",
    "Output: 4\n"
   ]
  },
  {
   "cell_type": "code",
   "execution_count": 32,
   "metadata": {},
   "outputs": [
    {
     "data": {
      "text/plain": [
       "0"
      ]
     },
     "execution_count": 32,
     "metadata": {},
     "output_type": "execute_result"
    }
   ],
   "source": [
    "# Approach 1\n",
    "def count_words(s):\n",
    "    \"\"\"\n",
    "    Function to count the number of words in the input string.\n",
    "    \n",
    "    Parameters:\n",
    "    s (str): The input string to check for words.\n",
    "    \n",
    "    Returns:\n",
    "    int: The count of words in the input string.\n",
    "    \"\"\"\n",
    "    # Your code here\n",
    "    s = s.split()\n",
    "    \n",
    "    count = 0\n",
    "    \n",
    "    for i in s:\n",
    "        if i != \" \" or i != \"\":\n",
    "            count += 1\n",
    "        \n",
    "    \n",
    "    return count\n",
    "\n",
    "\n",
    "s = \"  \"\n",
    "\n",
    "# Approach 2:\n",
    "def count_words(s):\n",
    "    \"\"\"\n",
    "    Function to count the number of words in the input string without using built-in functions.\n",
    "    \n",
    "    Parameters:\n",
    "    s (str): The input string to check for words.\n",
    "    \n",
    "    Returns:\n",
    "    int: The count of words in the input string.\n",
    "    \"\"\"\n",
    "    count = 0  # Initialize a counter for the number of words\n",
    "    in_word = False  # Flag to track if we are inside a word\n",
    "    \n",
    "    # Loop through each character in the string\n",
    "    for char in s:\n",
    "        # Check if the character is not a space\n",
    "        if char != ' ':\n",
    "            if not in_word:  # If we were not in a word before\n",
    "                in_word = True  # Set the flag to indicate we are now in a word\n",
    "                count += 1  # Increment the word count\n",
    "        else:\n",
    "            in_word = False  # If we encounter a space, we are not in a word anymore\n",
    "    \n",
    "    return count  # Return the total count of words\n",
    "\n",
    "count_words(s)"
   ]
  },
  {
   "cell_type": "markdown",
   "metadata": {},
   "source": [
    "Remove Duplicates in a string\n",
    "Problem Description:\n",
    "\n",
    "You are given a string s. Your task is to remove duplicate characters from the string while preserving the order of the first occurrences and return the modified string.\n",
    "\n",
    "\n",
    "\n",
    "Input:\n",
    "\n",
    "A single string s, where the length of s is between 1 and 1000.\n",
    "\n",
    "\n",
    "\n",
    "Output:\n",
    "\n",
    "A string that contains only the first occurrence of each character from the input string.\n",
    "\n",
    "\n",
    "\n",
    "Example:\n",
    "\n",
    "Input: \"programming\"\n",
    "Output: \"progamin\"\n",
    " \n",
    "Input: \"Hello, World!\"\n",
    "Output: \"Helo, Wrd!\"\n"
   ]
  },
  {
   "cell_type": "code",
   "execution_count": 33,
   "metadata": {},
   "outputs": [
    {
     "data": {
      "text/plain": [
       "'Helo, Wrd!'"
      ]
     },
     "execution_count": 33,
     "metadata": {},
     "output_type": "execute_result"
    }
   ],
   "source": [
    "def remove_duplicates(s):\n",
    "    \"\"\"\n",
    "    Function to remove duplicate characters from the input string.\n",
    "    \n",
    "    Parameters:\n",
    "    s (str): The input string from which duplicates need to be removed.\n",
    "    \n",
    "    Returns:\n",
    "    str: The modified string with duplicates removed.\n",
    "    \"\"\"\n",
    "    # Your code here\n",
    "    lst = []\n",
    "    \n",
    "    for i in s:\n",
    "        if i not in lst:\n",
    "            lst.append(i)\n",
    "            \n",
    "    return \"\".join(lst)\n",
    "\n",
    "\n",
    "input = \"Hello, World!\"\n",
    "\n",
    "remove_duplicates(input)"
   ]
  },
  {
   "cell_type": "markdown",
   "metadata": {},
   "source": [
    "Count consonants in a string\n",
    "Problem Description:\n",
    "\n",
    "You are given a string s. Your task is to count the number of consonants in the string and return the total count. A consonant is any alphabetic character that is not a vowel (a, e, i, o, u).\n",
    "\n",
    "\n",
    "\n",
    "Input:\n",
    "\n",
    "A single string s, where the length of s is between 1 and 1000.\n",
    "\n",
    "\n",
    "\n",
    "Output:\n",
    "\n",
    "An integer representing the total count of consonants in the input string.\n",
    "\n",
    "\n",
    "\n",
    "Example:\n",
    "\n",
    "Input: \"Hello, World!\"\n",
    "Output: 7\n",
    " \n",
    "Input: \"Python Programming\"\n",
    "Output: 13\n"
   ]
  },
  {
   "cell_type": "code",
   "execution_count": 35,
   "metadata": {},
   "outputs": [
    {
     "name": "stdout",
     "output_type": "stream",
     "text": [
      "0\n",
      "7\n"
     ]
    }
   ],
   "source": [
    "def count_consonants(s):\n",
    "    \"\"\"\n",
    "    Function to count the number of consonants in the input string.\n",
    "    \n",
    "    Parameters:\n",
    "    s (str): The input string to check for consonants.\n",
    "    \n",
    "    Returns:\n",
    "    int: The count of consonants in the input string.\n",
    "    \"\"\"\n",
    "    # Your code here\n",
    "    vowels = \"aeiou\"\n",
    "    count = 0\n",
    "    \n",
    "    for i in s.lower():\n",
    "        if i not in vowels and ('a'<i<='z'):\n",
    "            count+=1\n",
    "            \n",
    "    return count\n",
    "\n",
    "\n",
    "s1 = \"aeiou\"\n",
    "s2 = \"Hello, World!\"\n",
    "\n",
    "print(count_consonants(s1))\n",
    "print(count_consonants(s2))"
   ]
  },
  {
   "cell_type": "markdown",
   "metadata": {},
   "source": [
    "Check for anagrams\n",
    "Problem Description:\n",
    "\n",
    "You are given two strings s and t. Your task is to determine if string t is an anagram of string s. An anagram is a word or phrase formed by rearranging the characters of a different word or phrase, using all the original characters exactly once.\n",
    "\n",
    "\n",
    "\n",
    "Input:\n",
    "\n",
    "Two strings s and t where both lengths are between 1 and 1000.\n",
    "\n",
    "\n",
    "\n",
    "Output:\n",
    "\n",
    "Return True if t is an anagram of s, and False otherwise.\n",
    "\n",
    "\n",
    "\n",
    "Example:\n",
    "\n",
    "Input: s = \"anagram\", t = \"nagaram\"\n",
    "Output: True\n",
    " \n",
    "Input: s = \"rat\", t = \"car\"\n",
    "Output: False\n"
   ]
  },
  {
   "cell_type": "code",
   "execution_count": 46,
   "metadata": {},
   "outputs": [
    {
     "name": "stdout",
     "output_type": "stream",
     "text": [
      "True False\n",
      "True True\n",
      "Is car & cat valid: False\n",
      "Is anagram & nagaram valid: True\n"
     ]
    }
   ],
   "source": [
    "## Approach 1:\n",
    "def is_anagram(s, t):\n",
    "    \"\"\"\n",
    "    Function to check if t is an anagram of s.\n",
    "    \n",
    "    Parameters:\n",
    "    s (str): The first input string.\n",
    "    t (str): The second input string.\n",
    "    \n",
    "    Returns:\n",
    "    bool: True if t is an anagram of s, False otherwise.\n",
    "    \"\"\"\n",
    "    # Your code here\n",
    "    s_dict, t_dict = {}, {}\n",
    "    \n",
    "    char_status = True\n",
    "    len_status = True\n",
    "\n",
    "    for i in s:\n",
    "        if i not in s_dict.keys():\n",
    "            s_dict[i] = s.count(i)\n",
    "    \n",
    "    for i in t:\n",
    "        if i not in t_dict.keys():\n",
    "            t_dict[i] = t.count(i)\n",
    "    \n",
    "    if len(s) == len(t):\n",
    "        len_status = True\n",
    "        if len_status:\n",
    "            for i in s_dict.keys():\n",
    "                if i in t_dict.keys():\n",
    "                    if s_dict[i] == t_dict[i]:\n",
    "                        char_status = True\n",
    "                    else:\n",
    "                        char_status = False\n",
    "                else:\n",
    "                    char_status = False\n",
    "    \n",
    "    else:\n",
    "        len_status = False\n",
    "    \n",
    "    \n",
    "    print(len_status, char_status)\n",
    "    \n",
    "    if len_status & char_status:\n",
    "        return True\n",
    "    else:\n",
    "        return False\n",
    "\n",
    "a, b = \"car\", \"cat\"\n",
    "s1 = is_anagram(s=a, t=b)\n",
    "\n",
    "c, d = \"anagram\", \"nagaram\"\n",
    "s2 = is_anagram(s=c, t=d)\n",
    "\n",
    "print(f\"Is {a} & {b} valid: {s1}\\nIs {c} & {d} valid: {s2}\")"
   ]
  },
  {
   "cell_type": "markdown",
   "metadata": {},
   "source": [
    "Check Subsequence\n",
    "Problem Description:\n",
    "\n",
    "You are given two strings s and t. Your task is to determine if string t is a subsequence of string s. A subsequence of a string is a new string that is formed from the original string by deleting some (or no) characters without changing the order of the remaining characters.\n",
    "\n",
    "\n",
    "\n",
    "Input:\n",
    "\n",
    "Two strings s and t where the length of s is between 1 and 1000, and the length of t is between 1 and 1000.\n",
    "\n",
    "\n",
    "\n",
    "Output:\n",
    "\n",
    "Return True if t is a subsequence of s, and False otherwise.\n",
    "\n",
    "\n",
    "\n",
    "Example:\n",
    "\n",
    "Input: s = \"abcde\", t = \"ace\"\n",
    "Output: True\n",
    " \n",
    "Input: s = \"abcde\", t = \"aec\"\n",
    "Output: False\n"
   ]
  },
  {
   "cell_type": "code",
   "execution_count": 4,
   "metadata": {},
   "outputs": [
    {
     "data": {
      "text/plain": [
       "True"
      ]
     },
     "execution_count": 4,
     "metadata": {},
     "output_type": "execute_result"
    }
   ],
   "source": [
    "s, t = \"abcde\", \"ace\"\n",
    "\n",
    "## Approach 1 -> not working\n",
    "# sequence = []\n",
    "\n",
    "# for i in t:\n",
    "#     if i not in s:\n",
    "#         subsequence = False\n",
    "#     else:\n",
    "#         subsequence = True\n",
    "#         sequence.append(s.index(i))\n",
    "#         print(\"seq:\", sequence)\n",
    "    \n",
    "# for i in range(len(sequence)):\n",
    "#     sequence_flag = sequence[i] > sequence[i-1]\n",
    "#     print(sequence_flag)\n",
    "#     if not sequence_flag:\n",
    "#         print(\"inside not:\", sequence_flag)\n",
    "#         subsequence = False\n",
    "#     else:\n",
    "#         subsequence = True\n",
    "\n",
    "# print(subsequence)\n",
    "\n",
    "# Approach 2: TWO POINTER APPROACH\n",
    "s, t = \"abcde\", \"ace\"\n",
    "\n",
    "def is_subsequence(s, t):\n",
    "    \"\"\"\n",
    "    Function to check if t is a subsequence of s.\n",
    "    \n",
    "    Parameters:\n",
    "    s (str): The original string.\n",
    "    t (str): The target subsequence string.\n",
    "    \n",
    "    Returns:\n",
    "    bool: True if t is a subsequence of s, False otherwise.\n",
    "    \"\"\"\n",
    "    # Your code here\n",
    "    left, right = 0, 0\n",
    "\n",
    "    while left < len(s):\n",
    "        if s[left] == t[right]:\n",
    "            left += 1\n",
    "            right += 1\n",
    "        else:\n",
    "            left += 1\n",
    "\n",
    "    if right == len(t):\n",
    "        return True\n",
    "    else:\n",
    "        return False\n",
    "    \n",
    "is_subsequence(s, t)\n",
    "    "
   ]
  },
  {
   "cell_type": "code",
   "execution_count": 2,
   "metadata": {},
   "outputs": [
    {
     "data": {
      "text/plain": [
       "True"
      ]
     },
     "execution_count": 2,
     "metadata": {},
     "output_type": "execute_result"
    }
   ],
   "source": [
    "\"sdfsd\" == \"sdfsd\""
   ]
  },
  {
   "cell_type": "code",
   "execution_count": 12,
   "metadata": {},
   "outputs": [
    {
     "data": {
      "text/plain": [
       "'DFSDFSDFSDF'"
      ]
     },
     "execution_count": 12,
     "metadata": {},
     "output_type": "execute_result"
    }
   ],
   "source": [
    "s=\"dfsdf sdfsdf\"\n",
    "s = s.strip().replace(\" \",\"\").upper()\n",
    "s"
   ]
  },
  {
   "cell_type": "code",
   "execution_count": 13,
   "metadata": {},
   "outputs": [
    {
     "name": "stdout",
     "output_type": "stream",
     "text": [
      "D\n",
      "F\n",
      "S\n",
      "D\n",
      "F\n",
      "S\n",
      "D\n",
      "F\n",
      "S\n",
      "D\n",
      "F\n"
     ]
    }
   ],
   "source": [
    "for i in s:\n",
    "    print(i)"
   ]
  },
  {
   "cell_type": "code",
   "execution_count": 18,
   "metadata": {},
   "outputs": [
    {
     "data": {
      "text/plain": [
       "['', '']"
      ]
     },
     "execution_count": 18,
     "metadata": {},
     "output_type": "execute_result"
    }
   ],
   "source": [
    "lst = ['', '', '']\n",
    "lst.remove('')\n",
    "lst"
   ]
  },
  {
   "cell_type": "code",
   "execution_count": 26,
   "metadata": {},
   "outputs": [
    {
     "name": "stdout",
     "output_type": "stream",
     "text": [
      "space:  \n",
      "space:  \n"
     ]
    },
    {
     "data": {
      "text/plain": [
       "['', '']"
      ]
     },
     "execution_count": 26,
     "metadata": {},
     "output_type": "execute_result"
    }
   ],
   "source": [
    "for i in lst:\n",
    "    print(\"space: \",i)\n",
    "    if i == \" \":\n",
    "        lst = lst.remove(\" \")\n",
    "\n",
    "lst\n",
    "\n"
   ]
  }
 ],
 "metadata": {
  "kernelspec": {
   "display_name": "Python 3",
   "language": "python",
   "name": "python3"
  },
  "language_info": {
   "codemirror_mode": {
    "name": "ipython",
    "version": 3
   },
   "file_extension": ".py",
   "mimetype": "text/x-python",
   "name": "python",
   "nbconvert_exporter": "python",
   "pygments_lexer": "ipython3",
   "version": "3.12.3"
  }
 },
 "nbformat": 4,
 "nbformat_minor": 2
}
