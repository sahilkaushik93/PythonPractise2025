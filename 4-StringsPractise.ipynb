{
 "cells": [
  {
   "cell_type": "markdown",
   "metadata": {},
   "source": [
    "Check Palindrome\n",
    "Problem Description:\n",
    "\n",
    "You are given a string s. Your task is to check if the string is a palindrome. A string is considered a palindrome if it reads the same forward and backward, ignoring spaces, punctuation, and case.\n",
    "\n",
    "\n",
    "\n",
    "Input:\n",
    "\n",
    "A single string s, where the length of s is between 1 and 1000.\n",
    "\n",
    "\n",
    "\n",
    "Output:\n",
    "\n",
    "A boolean value: True if the string is a palindrome, and False otherwise.\n",
    "\n",
    "\n",
    "\n",
    "Example:\n",
    "\n",
    "Input: \"A man a plan a canal Panama\"\n",
    "Output: True\n",
    " \n",
    "Input: \"Hello, World!\"\n",
    "Output: False\n"
   ]
  },
  {
   "cell_type": "code",
   "execution_count": 14,
   "metadata": {},
   "outputs": [
    {
     "data": {
      "text/plain": [
       "True"
      ]
     },
     "execution_count": 14,
     "metadata": {},
     "output_type": "execute_result"
    }
   ],
   "source": [
    "def is_palindrome(s):\n",
    "    \"\"\"\n",
    "    Function to check if the input string is a palindrome.\n",
    "    \n",
    "    Parameters:\n",
    "    s (str): The input string to check.\n",
    "    \n",
    "    Returns:\n",
    "    bool: True if the string is a palindrome, False otherwise.\n",
    "    \"\"\"\n",
    "    # Your code here\n",
    "    s= s.strip().replace(\" \",\"\").lower()\n",
    "    \n",
    "    left = 0\n",
    "    right = len(s)-1\n",
    "    \n",
    "    while left < right:\n",
    "        if s[left] == s[right]:\n",
    "            left += 1\n",
    "            right -= 1\n",
    "        else:\n",
    "            return False\n",
    "            \n",
    "    return True\n",
    "\n",
    "\n",
    "Input= \"A man a plan a canal Panama\"\n",
    "\n",
    "is_palindrome(Input)"
   ]
  },
  {
   "cell_type": "code",
   "execution_count": 2,
   "metadata": {},
   "outputs": [
    {
     "data": {
      "text/plain": [
       "True"
      ]
     },
     "execution_count": 2,
     "metadata": {},
     "output_type": "execute_result"
    }
   ],
   "source": [
    "\"sdfsd\" == \"sdfsd\""
   ]
  },
  {
   "cell_type": "code",
   "execution_count": 12,
   "metadata": {},
   "outputs": [
    {
     "data": {
      "text/plain": [
       "'DFSDFSDFSDF'"
      ]
     },
     "execution_count": 12,
     "metadata": {},
     "output_type": "execute_result"
    }
   ],
   "source": [
    "s=\"dfsdf sdfsdf\"\n",
    "s = s.strip().replace(\" \",\"\").upper()\n",
    "s"
   ]
  },
  {
   "cell_type": "code",
   "execution_count": 13,
   "metadata": {},
   "outputs": [
    {
     "name": "stdout",
     "output_type": "stream",
     "text": [
      "D\n",
      "F\n",
      "S\n",
      "D\n",
      "F\n",
      "S\n",
      "D\n",
      "F\n",
      "S\n",
      "D\n",
      "F\n"
     ]
    }
   ],
   "source": [
    "for i in s:\n",
    "    print(i)"
   ]
  }
 ],
 "metadata": {
  "kernelspec": {
   "display_name": "Python 3",
   "language": "python",
   "name": "python3"
  },
  "language_info": {
   "codemirror_mode": {
    "name": "ipython",
    "version": 3
   },
   "file_extension": ".py",
   "mimetype": "text/x-python",
   "name": "python",
   "nbconvert_exporter": "python",
   "pygments_lexer": "ipython3",
   "version": "3.12.3"
  }
 },
 "nbformat": 4,
 "nbformat_minor": 2
}
