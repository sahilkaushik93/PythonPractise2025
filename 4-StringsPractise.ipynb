{
 "cells": [
  {
   "cell_type": "markdown",
   "metadata": {},
   "source": [
    "Check Palindrome\n",
    "Problem Description:\n",
    "\n",
    "You are given a string s. Your task is to check if the string is a palindrome. A string is considered a palindrome if it reads the same forward and backward, ignoring spaces, punctuation, and case.\n",
    "\n",
    "\n",
    "\n",
    "Input:\n",
    "\n",
    "A single string s, where the length of s is between 1 and 1000.\n",
    "\n",
    "\n",
    "\n",
    "Output:\n",
    "\n",
    "A boolean value: True if the string is a palindrome, and False otherwise.\n",
    "\n",
    "\n",
    "\n",
    "Example:\n",
    "\n",
    "Input: \"A man a plan a canal Panama\"\n",
    "Output: True\n",
    " \n",
    "Input: \"Hello, World!\"\n",
    "Output: False\n"
   ]
  },
  {
   "cell_type": "code",
   "execution_count": 14,
   "metadata": {},
   "outputs": [
    {
     "data": {
      "text/plain": [
       "True"
      ]
     },
     "execution_count": 14,
     "metadata": {},
     "output_type": "execute_result"
    }
   ],
   "source": [
    "def is_palindrome(s):\n",
    "    \"\"\"\n",
    "    Function to check if the input string is a palindrome.\n",
    "    \n",
    "    Parameters:\n",
    "    s (str): The input string to check.\n",
    "    \n",
    "    Returns:\n",
    "    bool: True if the string is a palindrome, False otherwise.\n",
    "    \"\"\"\n",
    "    # Your code here\n",
    "    s= s.strip().replace(\" \",\"\").lower()\n",
    "    \n",
    "    left = 0\n",
    "    right = len(s)-1\n",
    "    \n",
    "    while left < right:\n",
    "        if s[left] == s[right]:\n",
    "            left += 1\n",
    "            right -= 1\n",
    "        else:\n",
    "            return False\n",
    "            \n",
    "    return True\n",
    "\n",
    "\n",
    "Input= \"A man a plan a canal Panama\"\n",
    "\n",
    "is_palindrome(Input)"
   ]
  },
  {
   "cell_type": "markdown",
   "metadata": {},
   "source": [
    "Count words in a string\n",
    "Problem Description:\n",
    "\n",
    "You are given a string s. Your task is to count the number of words in the string and return the total count. A word is defined as a sequence of characters separated by spaces.\n",
    "\n",
    "\n",
    "\n",
    "Input:\n",
    "\n",
    "A single string s, where the length of s is between 1 and 1000.\n",
    "\n",
    "\n",
    "\n",
    "Output:\n",
    "\n",
    "An integer representing the total count of words in the input string.\n",
    "\n",
    "\n",
    "\n",
    "Example:\n",
    "\n",
    "Input: \"Hello, World!\"\n",
    "Output: 2\n",
    " \n",
    "Input: \"Python programming is fun.\"\n",
    "Output: 4\n"
   ]
  },
  {
   "cell_type": "code",
   "execution_count": 32,
   "metadata": {},
   "outputs": [
    {
     "data": {
      "text/plain": [
       "0"
      ]
     },
     "execution_count": 32,
     "metadata": {},
     "output_type": "execute_result"
    }
   ],
   "source": [
    "# Approach 1\n",
    "def count_words(s):\n",
    "    \"\"\"\n",
    "    Function to count the number of words in the input string.\n",
    "    \n",
    "    Parameters:\n",
    "    s (str): The input string to check for words.\n",
    "    \n",
    "    Returns:\n",
    "    int: The count of words in the input string.\n",
    "    \"\"\"\n",
    "    # Your code here\n",
    "    s = s.split()\n",
    "    \n",
    "    count = 0\n",
    "    \n",
    "    for i in s:\n",
    "        if i != \" \" or i != \"\":\n",
    "            count += 1\n",
    "        \n",
    "    \n",
    "    return count\n",
    "\n",
    "\n",
    "s = \"  \"\n",
    "\n",
    "# Approach 2:\n",
    "def count_words(s):\n",
    "    \"\"\"\n",
    "    Function to count the number of words in the input string without using built-in functions.\n",
    "    \n",
    "    Parameters:\n",
    "    s (str): The input string to check for words.\n",
    "    \n",
    "    Returns:\n",
    "    int: The count of words in the input string.\n",
    "    \"\"\"\n",
    "    count = 0  # Initialize a counter for the number of words\n",
    "    in_word = False  # Flag to track if we are inside a word\n",
    "    \n",
    "    # Loop through each character in the string\n",
    "    for char in s:\n",
    "        # Check if the character is not a space\n",
    "        if char != ' ':\n",
    "            if not in_word:  # If we were not in a word before\n",
    "                in_word = True  # Set the flag to indicate we are now in a word\n",
    "                count += 1  # Increment the word count\n",
    "        else:\n",
    "            in_word = False  # If we encounter a space, we are not in a word anymore\n",
    "    \n",
    "    return count  # Return the total count of words\n",
    "\n",
    "count_words(s)"
   ]
  },
  {
   "cell_type": "markdown",
   "metadata": {},
   "source": [
    "Remove Duplicates in a string\n",
    "Problem Description:\n",
    "\n",
    "You are given a string s. Your task is to remove duplicate characters from the string while preserving the order of the first occurrences and return the modified string.\n",
    "\n",
    "\n",
    "\n",
    "Input:\n",
    "\n",
    "A single string s, where the length of s is between 1 and 1000.\n",
    "\n",
    "\n",
    "\n",
    "Output:\n",
    "\n",
    "A string that contains only the first occurrence of each character from the input string.\n",
    "\n",
    "\n",
    "\n",
    "Example:\n",
    "\n",
    "Input: \"programming\"\n",
    "Output: \"progamin\"\n",
    " \n",
    "Input: \"Hello, World!\"\n",
    "Output: \"Helo, Wrd!\"\n"
   ]
  },
  {
   "cell_type": "code",
   "execution_count": 33,
   "metadata": {},
   "outputs": [
    {
     "data": {
      "text/plain": [
       "'Helo, Wrd!'"
      ]
     },
     "execution_count": 33,
     "metadata": {},
     "output_type": "execute_result"
    }
   ],
   "source": [
    "def remove_duplicates(s):\n",
    "    \"\"\"\n",
    "    Function to remove duplicate characters from the input string.\n",
    "    \n",
    "    Parameters:\n",
    "    s (str): The input string from which duplicates need to be removed.\n",
    "    \n",
    "    Returns:\n",
    "    str: The modified string with duplicates removed.\n",
    "    \"\"\"\n",
    "    # Your code here\n",
    "    lst = []\n",
    "    \n",
    "    for i in s:\n",
    "        if i not in lst:\n",
    "            lst.append(i)\n",
    "            \n",
    "    return \"\".join(lst)\n",
    "\n",
    "\n",
    "input = \"Hello, World!\"\n",
    "\n",
    "remove_duplicates(input)"
   ]
  },
  {
   "cell_type": "code",
   "execution_count": 2,
   "metadata": {},
   "outputs": [
    {
     "data": {
      "text/plain": [
       "True"
      ]
     },
     "execution_count": 2,
     "metadata": {},
     "output_type": "execute_result"
    }
   ],
   "source": [
    "\"sdfsd\" == \"sdfsd\""
   ]
  },
  {
   "cell_type": "code",
   "execution_count": 12,
   "metadata": {},
   "outputs": [
    {
     "data": {
      "text/plain": [
       "'DFSDFSDFSDF'"
      ]
     },
     "execution_count": 12,
     "metadata": {},
     "output_type": "execute_result"
    }
   ],
   "source": [
    "s=\"dfsdf sdfsdf\"\n",
    "s = s.strip().replace(\" \",\"\").upper()\n",
    "s"
   ]
  },
  {
   "cell_type": "code",
   "execution_count": 13,
   "metadata": {},
   "outputs": [
    {
     "name": "stdout",
     "output_type": "stream",
     "text": [
      "D\n",
      "F\n",
      "S\n",
      "D\n",
      "F\n",
      "S\n",
      "D\n",
      "F\n",
      "S\n",
      "D\n",
      "F\n"
     ]
    }
   ],
   "source": [
    "for i in s:\n",
    "    print(i)"
   ]
  },
  {
   "cell_type": "code",
   "execution_count": 18,
   "metadata": {},
   "outputs": [
    {
     "data": {
      "text/plain": [
       "['', '']"
      ]
     },
     "execution_count": 18,
     "metadata": {},
     "output_type": "execute_result"
    }
   ],
   "source": [
    "lst = ['', '', '']\n",
    "lst.remove('')\n",
    "lst"
   ]
  },
  {
   "cell_type": "code",
   "execution_count": 26,
   "metadata": {},
   "outputs": [
    {
     "name": "stdout",
     "output_type": "stream",
     "text": [
      "space:  \n",
      "space:  \n"
     ]
    },
    {
     "data": {
      "text/plain": [
       "['', '']"
      ]
     },
     "execution_count": 26,
     "metadata": {},
     "output_type": "execute_result"
    }
   ],
   "source": [
    "for i in lst:\n",
    "    print(\"space: \",i)\n",
    "    if i == \" \":\n",
    "        lst = lst.remove(\" \")\n",
    "\n",
    "lst\n",
    "\n"
   ]
  }
 ],
 "metadata": {
  "kernelspec": {
   "display_name": "Python 3",
   "language": "python",
   "name": "python3"
  },
  "language_info": {
   "codemirror_mode": {
    "name": "ipython",
    "version": 3
   },
   "file_extension": ".py",
   "mimetype": "text/x-python",
   "name": "python",
   "nbconvert_exporter": "python",
   "pygments_lexer": "ipython3",
   "version": "3.12.3"
  }
 },
 "nbformat": 4,
 "nbformat_minor": 2
}
